{
 "cells": [
  {
   "cell_type": "markdown",
   "metadata": {
    "id": "peNbTnUOswF_"
   },
   "source": [
    "# Objective :- \n",
    "\n",
    "* A cancerous tumor is malignant, meaning it can grow and spread to other parts of the body. A benign tumor means the tumor can grow but will not spread.\n",
    "\n",
    "* To Predict where the patient have Cancer or not "
   ]
  },
  {
   "cell_type": "markdown",
   "metadata": {
    "id": "mq1K-W_hswGL"
   },
   "source": [
    "# Step 1 :Library & Data Import"
   ]
  },
  {
   "cell_type": "code",
   "execution_count": 1,
   "metadata": {
    "id": "T4ZTS5I0swGN"
   },
   "outputs": [],
   "source": [
    "import warnings\n",
    "warnings.filterwarnings(\"ignore\")"
   ]
  },
  {
   "cell_type": "code",
   "execution_count": 2,
   "metadata": {
    "id": "Z5eJ5Qs8swGR"
   },
   "outputs": [],
   "source": [
    "import os\n",
    "import numpy as np\n",
    "import pandas as pd\n",
    "import numpy as np, pandas as pd\n",
    "import matplotlib.pyplot as plt\n",
    "from sklearn.neighbors import KNeighborsClassifier"
   ]
  },
  {
   "cell_type": "code",
   "execution_count": 3,
   "metadata": {
    "id": "zszmNXOPswGT",
    "outputId": "fd20cda9-f695-424d-ba4d-91e50872ee84"
   },
   "outputs": [
    {
     "data": {
      "text/html": [
       "<div>\n",
       "<style scoped>\n",
       "    .dataframe tbody tr th:only-of-type {\n",
       "        vertical-align: middle;\n",
       "    }\n",
       "\n",
       "    .dataframe tbody tr th {\n",
       "        vertical-align: top;\n",
       "    }\n",
       "\n",
       "    .dataframe thead th {\n",
       "        text-align: right;\n",
       "    }\n",
       "</style>\n",
       "<table border=\"1\" class=\"dataframe\">\n",
       "  <thead>\n",
       "    <tr style=\"text-align: right;\">\n",
       "      <th></th>\n",
       "      <th>id</th>\n",
       "      <th>diagnosis_result</th>\n",
       "      <th>radius</th>\n",
       "      <th>texture</th>\n",
       "      <th>perimeter</th>\n",
       "      <th>area</th>\n",
       "      <th>smoothness</th>\n",
       "      <th>compactness</th>\n",
       "      <th>symmetry</th>\n",
       "      <th>fractal_dimension</th>\n",
       "    </tr>\n",
       "  </thead>\n",
       "  <tbody>\n",
       "    <tr>\n",
       "      <th>0</th>\n",
       "      <td>1</td>\n",
       "      <td>M</td>\n",
       "      <td>23</td>\n",
       "      <td>12</td>\n",
       "      <td>151</td>\n",
       "      <td>954</td>\n",
       "      <td>0.143</td>\n",
       "      <td>0.278</td>\n",
       "      <td>0.242</td>\n",
       "      <td>0.079</td>\n",
       "    </tr>\n",
       "    <tr>\n",
       "      <th>1</th>\n",
       "      <td>2</td>\n",
       "      <td>B</td>\n",
       "      <td>9</td>\n",
       "      <td>13</td>\n",
       "      <td>133</td>\n",
       "      <td>1326</td>\n",
       "      <td>0.143</td>\n",
       "      <td>0.079</td>\n",
       "      <td>0.181</td>\n",
       "      <td>0.057</td>\n",
       "    </tr>\n",
       "    <tr>\n",
       "      <th>2</th>\n",
       "      <td>3</td>\n",
       "      <td>M</td>\n",
       "      <td>21</td>\n",
       "      <td>27</td>\n",
       "      <td>130</td>\n",
       "      <td>1203</td>\n",
       "      <td>0.125</td>\n",
       "      <td>0.160</td>\n",
       "      <td>0.207</td>\n",
       "      <td>0.060</td>\n",
       "    </tr>\n",
       "    <tr>\n",
       "      <th>3</th>\n",
       "      <td>4</td>\n",
       "      <td>M</td>\n",
       "      <td>14</td>\n",
       "      <td>16</td>\n",
       "      <td>78</td>\n",
       "      <td>386</td>\n",
       "      <td>0.070</td>\n",
       "      <td>0.284</td>\n",
       "      <td>0.260</td>\n",
       "      <td>0.097</td>\n",
       "    </tr>\n",
       "    <tr>\n",
       "      <th>4</th>\n",
       "      <td>5</td>\n",
       "      <td>M</td>\n",
       "      <td>9</td>\n",
       "      <td>19</td>\n",
       "      <td>135</td>\n",
       "      <td>1297</td>\n",
       "      <td>0.141</td>\n",
       "      <td>0.133</td>\n",
       "      <td>0.181</td>\n",
       "      <td>0.059</td>\n",
       "    </tr>\n",
       "  </tbody>\n",
       "</table>\n",
       "</div>"
      ],
      "text/plain": [
       "   id diagnosis_result  radius  texture  perimeter  area  smoothness  \\\n",
       "0   1                M      23       12        151   954       0.143   \n",
       "1   2                B       9       13        133  1326       0.143   \n",
       "2   3                M      21       27        130  1203       0.125   \n",
       "3   4                M      14       16         78   386       0.070   \n",
       "4   5                M       9       19        135  1297       0.141   \n",
       "\n",
       "   compactness  symmetry  fractal_dimension  \n",
       "0        0.278     0.242              0.079  \n",
       "1        0.079     0.181              0.057  \n",
       "2        0.160     0.207              0.060  \n",
       "3        0.284     0.260              0.097  \n",
       "4        0.133     0.181              0.059  "
      ]
     },
     "execution_count": 3,
     "metadata": {},
     "output_type": "execute_result"
    }
   ],
   "source": [
    "data = pd.read_csv(r\"C:\\Users\\Owner\\Desktop\\imar ml\\Machine Learning\\KNN\\Prostate_Cancer.csv\")\n",
    "data.head()"
   ]
  },
  {
   "cell_type": "markdown",
   "metadata": {
    "id": "tS9ASls3swGa"
   },
   "source": [
    "#  Step 2 : Data Pre-Processing"
   ]
  },
  {
   "cell_type": "code",
   "execution_count": 4,
   "metadata": {
    "id": "XZdXq8-fswGc",
    "outputId": "0e7638d3-c628-47a9-f481-5f8ceaa83a1b"
   },
   "outputs": [
    {
     "name": "stdout",
     "output_type": "stream",
     "text": [
      "<class 'pandas.core.frame.DataFrame'>\n",
      "RangeIndex: 100 entries, 0 to 99\n",
      "Data columns (total 10 columns):\n",
      " #   Column             Non-Null Count  Dtype  \n",
      "---  ------             --------------  -----  \n",
      " 0   id                 100 non-null    int64  \n",
      " 1   diagnosis_result   100 non-null    object \n",
      " 2   radius             100 non-null    int64  \n",
      " 3   texture            100 non-null    int64  \n",
      " 4   perimeter          100 non-null    int64  \n",
      " 5   area               100 non-null    int64  \n",
      " 6   smoothness         100 non-null    float64\n",
      " 7   compactness        100 non-null    float64\n",
      " 8   symmetry           100 non-null    float64\n",
      " 9   fractal_dimension  100 non-null    float64\n",
      "dtypes: float64(4), int64(5), object(1)\n",
      "memory usage: 7.9+ KB\n"
     ]
    }
   ],
   "source": [
    "data.info()"
   ]
  },
  {
   "cell_type": "markdown",
   "metadata": {
    "id": "XQqwYKFvswGf"
   },
   "source": [
    "### Removing irrelevant  "
   ]
  },
  {
   "cell_type": "code",
   "execution_count": 5,
   "metadata": {
    "id": "QjTDcEWlswGi"
   },
   "outputs": [],
   "source": [
    "data.drop('id',axis=1,inplace=True)"
   ]
  },
  {
   "cell_type": "markdown",
   "metadata": {
    "id": "EV3I3yMVswGm"
   },
   "source": [
    "### Bad Rate Analysis "
   ]
  },
  {
   "cell_type": "code",
   "execution_count": 6,
   "metadata": {
    "id": "bOVmz28ZswGp",
    "outputId": "8632c5de-f49a-422b-e685-d2b3faa1922a"
   },
   "outputs": [
    {
     "data": {
      "text/plain": [
       "M    62\n",
       "B    38\n",
       "Name: diagnosis_result, dtype: int64"
      ]
     },
     "execution_count": 6,
     "metadata": {},
     "output_type": "execute_result"
    }
   ],
   "source": [
    "data.diagnosis_result.value_counts()"
   ]
  },
  {
   "cell_type": "markdown",
   "metadata": {
    "id": "6sFRzaiDswG0"
   },
   "source": [
    "# Step 3 : Data Partition"
   ]
  },
  {
   "cell_type": "code",
   "execution_count": 7,
   "metadata": {
    "id": "z9SRQfQ2swG5"
   },
   "outputs": [],
   "source": [
    "#Dividing data into train and test dataset\n",
    "from sklearn.model_selection import train_test_split\n",
    "#from random import seed\n",
    "\n",
    "#seed(20)\n",
    "train_x = data.drop(['diagnosis_result'],axis=1)\n",
    "train_y = data['diagnosis_result']\n",
    "\n",
    "# Train test split\n",
    "\n",
    "X_train, X_test, y_train, y_test = train_test_split(train_x, train_y, test_size=0.3,random_state=20)"
   ]
  },
  {
   "cell_type": "code",
   "execution_count": 8,
   "metadata": {},
   "outputs": [
    {
     "data": {
      "text/plain": [
       "39    M\n",
       "64    M\n",
       "72    M\n",
       "60    B\n",
       "46    B\n",
       "Name: diagnosis_result, dtype: object"
      ]
     },
     "execution_count": 8,
     "metadata": {},
     "output_type": "execute_result"
    }
   ],
   "source": [
    "y_train.head()"
   ]
  },
  {
   "cell_type": "code",
   "execution_count": 9,
   "metadata": {
    "id": "uqlx4KISswG-",
    "outputId": "a105f2fd-3a67-4223-989c-ff31e97b296a"
   },
   "outputs": [
    {
     "data": {
      "text/html": [
       "<div>\n",
       "<style scoped>\n",
       "    .dataframe tbody tr th:only-of-type {\n",
       "        vertical-align: middle;\n",
       "    }\n",
       "\n",
       "    .dataframe tbody tr th {\n",
       "        vertical-align: top;\n",
       "    }\n",
       "\n",
       "    .dataframe thead th {\n",
       "        text-align: right;\n",
       "    }\n",
       "</style>\n",
       "<table border=\"1\" class=\"dataframe\">\n",
       "  <thead>\n",
       "    <tr style=\"text-align: right;\">\n",
       "      <th></th>\n",
       "      <th>radius</th>\n",
       "      <th>texture</th>\n",
       "      <th>perimeter</th>\n",
       "      <th>area</th>\n",
       "      <th>smoothness</th>\n",
       "      <th>compactness</th>\n",
       "      <th>symmetry</th>\n",
       "      <th>fractal_dimension</th>\n",
       "    </tr>\n",
       "  </thead>\n",
       "  <tbody>\n",
       "    <tr>\n",
       "      <th>39</th>\n",
       "      <td>10</td>\n",
       "      <td>14</td>\n",
       "      <td>88</td>\n",
       "      <td>559</td>\n",
       "      <td>0.102</td>\n",
       "      <td>0.126</td>\n",
       "      <td>0.172</td>\n",
       "      <td>0.064</td>\n",
       "    </tr>\n",
       "    <tr>\n",
       "      <th>64</th>\n",
       "      <td>16</td>\n",
       "      <td>19</td>\n",
       "      <td>83</td>\n",
       "      <td>499</td>\n",
       "      <td>0.112</td>\n",
       "      <td>0.126</td>\n",
       "      <td>0.191</td>\n",
       "      <td>0.066</td>\n",
       "    </tr>\n",
       "    <tr>\n",
       "      <th>72</th>\n",
       "      <td>21</td>\n",
       "      <td>12</td>\n",
       "      <td>114</td>\n",
       "      <td>929</td>\n",
       "      <td>0.107</td>\n",
       "      <td>0.183</td>\n",
       "      <td>0.193</td>\n",
       "      <td>0.065</td>\n",
       "    </tr>\n",
       "    <tr>\n",
       "      <th>60</th>\n",
       "      <td>15</td>\n",
       "      <td>18</td>\n",
       "      <td>65</td>\n",
       "      <td>312</td>\n",
       "      <td>0.113</td>\n",
       "      <td>0.081</td>\n",
       "      <td>0.274</td>\n",
       "      <td>0.070</td>\n",
       "    </tr>\n",
       "    <tr>\n",
       "      <th>46</th>\n",
       "      <td>22</td>\n",
       "      <td>12</td>\n",
       "      <td>52</td>\n",
       "      <td>202</td>\n",
       "      <td>0.086</td>\n",
       "      <td>0.059</td>\n",
       "      <td>0.177</td>\n",
       "      <td>0.065</td>\n",
       "    </tr>\n",
       "  </tbody>\n",
       "</table>\n",
       "</div>"
      ],
      "text/plain": [
       "    radius  texture  perimeter  area  smoothness  compactness  symmetry  \\\n",
       "39      10       14         88   559       0.102        0.126     0.172   \n",
       "64      16       19         83   499       0.112        0.126     0.191   \n",
       "72      21       12        114   929       0.107        0.183     0.193   \n",
       "60      15       18         65   312       0.113        0.081     0.274   \n",
       "46      22       12         52   202       0.086        0.059     0.177   \n",
       "\n",
       "    fractal_dimension  \n",
       "39              0.064  \n",
       "64              0.066  \n",
       "72              0.065  \n",
       "60              0.070  \n",
       "46              0.065  "
      ]
     },
     "execution_count": 9,
     "metadata": {},
     "output_type": "execute_result"
    }
   ],
   "source": [
    "X_train.head()"
   ]
  },
  {
   "cell_type": "markdown",
   "metadata": {
    "id": "7UyRQMBMswHA"
   },
   "source": [
    "#  Step 4 : Scaling Data"
   ]
  },
  {
   "cell_type": "code",
   "execution_count": 34,
   "metadata": {
    "id": "VlDJzDP7swHB"
   },
   "outputs": [],
   "source": [
    "from sklearn.preprocessing import StandardScaler ,minmax_scale\n",
    "scaler = StandardScaler()   # converting data into Z-scale = X-mean / Standard Deviation\n",
    "#scaler.fit(X_train)         # Mean = 0 & standard Deviation =1\n",
    "\n",
    "X_train = scaler.fit_transform(X_train)\n",
    "X_test = scaler.fit_transform(X_test)"
   ]
  },
  {
   "cell_type": "code",
   "execution_count": 35,
   "metadata": {
    "id": "EPIDJRpFswHD",
    "outputId": "a842d481-5072-4636-8326-b26b5bb27c44"
   },
   "outputs": [
    {
     "data": {
      "text/plain": [
       "array([[ 0.83258101,  0.27955917,  1.09866092,  1.31738406, -0.69416354,\n",
       "        -0.13834676, -1.0422526 , -1.01289294],\n",
       "       [ 0.25617877, -0.74321829, -0.79558205, -0.77590342, -0.57782328,\n",
       "        -0.75649185, -0.55855526, -0.47507368],\n",
       "       [ 0.83258101,  2.1205586 ,  1.35122665,  1.54926568,  1.34179098,\n",
       "         0.86834668,  0.65068809, -0.34061887],\n",
       "       [-1.28089386, -0.3341073 , -0.54301632, -0.58213933, -0.28697264,\n",
       "        -0.10302418, -0.45490583, -0.07170923],\n",
       "       [-1.28089386,  0.48411467,  1.1828495 ,  1.38726619,  0.1783884 ,\n",
       "         0.28552416,  0.13244094, -0.34061887]])"
      ]
     },
     "execution_count": 35,
     "metadata": {},
     "output_type": "execute_result"
    }
   ],
   "source": [
    "X_test[0:5]"
   ]
  },
  {
   "cell_type": "code",
   "execution_count": 12,
   "metadata": {
    "id": "g7xDu8MHswHE",
    "outputId": "f227a6ce-6c21-45a5-e6a4-19826a3eecf7"
   },
   "outputs": [
    {
     "data": {
      "text/plain": [
       "array([ 3.27119284e-16, -5.07530526e-17,  1.08048491e-16,  6.97854473e-17,\n",
       "        1.60665132e-15, -1.38777878e-16, -1.05352235e-15,  8.03325660e-16])"
      ]
     },
     "execution_count": 12,
     "metadata": {},
     "output_type": "execute_result"
    }
   ],
   "source": [
    "X_train.mean(axis=0)"
   ]
  },
  {
   "cell_type": "code",
   "execution_count": 13,
   "metadata": {
    "id": "lWm4YpJnswHG",
    "outputId": "5b564a9b-f0d1-43a0-ccfd-d02819f50b36"
   },
   "outputs": [
    {
     "data": {
      "text/plain": [
       "array([1., 1., 1., 1., 1., 1., 1., 1.])"
      ]
     },
     "execution_count": 13,
     "metadata": {},
     "output_type": "execute_result"
    }
   ],
   "source": [
    " X_train.std(axis=0)"
   ]
  },
  {
   "cell_type": "code",
   "execution_count": 38,
   "metadata": {},
   "outputs": [
    {
     "data": {
      "text/plain": [
       "0     M\n",
       "1     M\n",
       "2     M\n",
       "3     B\n",
       "4     B\n",
       "     ..\n",
       "65    M\n",
       "66    M\n",
       "67    M\n",
       "68    B\n",
       "69    M\n",
       "Name: diagnosis_result, Length: 70, dtype: object"
      ]
     },
     "execution_count": 38,
     "metadata": {},
     "output_type": "execute_result"
    }
   ],
   "source": [
    "y_train"
   ]
  },
  {
   "cell_type": "markdown",
   "metadata": {
    "id": "ZX-vfcbjswHH"
   },
   "source": [
    "# Step 5 : Model Building "
   ]
  },
  {
   "cell_type": "code",
   "execution_count": 14,
   "metadata": {
    "id": "WAKZ0tHiswHI",
    "outputId": "e7644d70-256b-4217-d21a-1c00404b03f1"
   },
   "outputs": [
    {
     "data": {
      "text/html": [
       "<style>#sk-container-id-1 {color: black;background-color: white;}#sk-container-id-1 pre{padding: 0;}#sk-container-id-1 div.sk-toggleable {background-color: white;}#sk-container-id-1 label.sk-toggleable__label {cursor: pointer;display: block;width: 100%;margin-bottom: 0;padding: 0.3em;box-sizing: border-box;text-align: center;}#sk-container-id-1 label.sk-toggleable__label-arrow:before {content: \"▸\";float: left;margin-right: 0.25em;color: #696969;}#sk-container-id-1 label.sk-toggleable__label-arrow:hover:before {color: black;}#sk-container-id-1 div.sk-estimator:hover label.sk-toggleable__label-arrow:before {color: black;}#sk-container-id-1 div.sk-toggleable__content {max-height: 0;max-width: 0;overflow: hidden;text-align: left;background-color: #f0f8ff;}#sk-container-id-1 div.sk-toggleable__content pre {margin: 0.2em;color: black;border-radius: 0.25em;background-color: #f0f8ff;}#sk-container-id-1 input.sk-toggleable__control:checked~div.sk-toggleable__content {max-height: 200px;max-width: 100%;overflow: auto;}#sk-container-id-1 input.sk-toggleable__control:checked~label.sk-toggleable__label-arrow:before {content: \"▾\";}#sk-container-id-1 div.sk-estimator input.sk-toggleable__control:checked~label.sk-toggleable__label {background-color: #d4ebff;}#sk-container-id-1 div.sk-label input.sk-toggleable__control:checked~label.sk-toggleable__label {background-color: #d4ebff;}#sk-container-id-1 input.sk-hidden--visually {border: 0;clip: rect(1px 1px 1px 1px);clip: rect(1px, 1px, 1px, 1px);height: 1px;margin: -1px;overflow: hidden;padding: 0;position: absolute;width: 1px;}#sk-container-id-1 div.sk-estimator {font-family: monospace;background-color: #f0f8ff;border: 1px dotted black;border-radius: 0.25em;box-sizing: border-box;margin-bottom: 0.5em;}#sk-container-id-1 div.sk-estimator:hover {background-color: #d4ebff;}#sk-container-id-1 div.sk-parallel-item::after {content: \"\";width: 100%;border-bottom: 1px solid gray;flex-grow: 1;}#sk-container-id-1 div.sk-label:hover label.sk-toggleable__label {background-color: #d4ebff;}#sk-container-id-1 div.sk-serial::before {content: \"\";position: absolute;border-left: 1px solid gray;box-sizing: border-box;top: 0;bottom: 0;left: 50%;z-index: 0;}#sk-container-id-1 div.sk-serial {display: flex;flex-direction: column;align-items: center;background-color: white;padding-right: 0.2em;padding-left: 0.2em;position: relative;}#sk-container-id-1 div.sk-item {position: relative;z-index: 1;}#sk-container-id-1 div.sk-parallel {display: flex;align-items: stretch;justify-content: center;background-color: white;position: relative;}#sk-container-id-1 div.sk-item::before, #sk-container-id-1 div.sk-parallel-item::before {content: \"\";position: absolute;border-left: 1px solid gray;box-sizing: border-box;top: 0;bottom: 0;left: 50%;z-index: -1;}#sk-container-id-1 div.sk-parallel-item {display: flex;flex-direction: column;z-index: 1;position: relative;background-color: white;}#sk-container-id-1 div.sk-parallel-item:first-child::after {align-self: flex-end;width: 50%;}#sk-container-id-1 div.sk-parallel-item:last-child::after {align-self: flex-start;width: 50%;}#sk-container-id-1 div.sk-parallel-item:only-child::after {width: 0;}#sk-container-id-1 div.sk-dashed-wrapped {border: 1px dashed gray;margin: 0 0.4em 0.5em 0.4em;box-sizing: border-box;padding-bottom: 0.4em;background-color: white;}#sk-container-id-1 div.sk-label label {font-family: monospace;font-weight: bold;display: inline-block;line-height: 1.2em;}#sk-container-id-1 div.sk-label-container {text-align: center;}#sk-container-id-1 div.sk-container {/* jupyter's `normalize.less` sets `[hidden] { display: none; }` but bootstrap.min.css set `[hidden] { display: none !important; }` so we also need the `!important` here to be able to override the default hidden behavior on the sphinx rendered scikit-learn.org. See: https://github.com/scikit-learn/scikit-learn/issues/21755 */display: inline-block !important;position: relative;}#sk-container-id-1 div.sk-text-repr-fallback {display: none;}</style><div id=\"sk-container-id-1\" class=\"sk-top-container\"><div class=\"sk-text-repr-fallback\"><pre>KNeighborsClassifier(n_neighbors=8)</pre><b>In a Jupyter environment, please rerun this cell to show the HTML representation or trust the notebook. <br />On GitHub, the HTML representation is unable to render, please try loading this page with nbviewer.org.</b></div><div class=\"sk-container\" hidden><div class=\"sk-item\"><div class=\"sk-estimator sk-toggleable\"><input class=\"sk-toggleable__control sk-hidden--visually\" id=\"sk-estimator-id-1\" type=\"checkbox\" checked><label for=\"sk-estimator-id-1\" class=\"sk-toggleable__label sk-toggleable__label-arrow\">KNeighborsClassifier</label><div class=\"sk-toggleable__content\"><pre>KNeighborsClassifier(n_neighbors=8)</pre></div></div></div></div></div>"
      ],
      "text/plain": [
       "KNeighborsClassifier(n_neighbors=8)"
      ]
     },
     "execution_count": 14,
     "metadata": {},
     "output_type": "execute_result"
    }
   ],
   "source": [
    "# train the decision tree\n",
    "## Instantiate the model with 5 neighbors. \n",
    "model = KNeighborsClassifier(n_neighbors=8)\n",
    "## Fit the model on the training data.\n",
    "model.fit(X_train, y_train)"
   ]
  },
  {
   "cell_type": "markdown",
   "metadata": {
    "id": "RSZeWL_9swHV"
   },
   "source": [
    "# Step 6 : Predictions on Train Dataset"
   ]
  },
  {
   "cell_type": "code",
   "execution_count": 15,
   "metadata": {
    "id": "8x6IaA9LswHW",
    "outputId": "a7d91dc6-aaad-4d0d-89a3-b03aa3656a6a"
   },
   "outputs": [
    {
     "data": {
      "text/html": [
       "<div>\n",
       "<style scoped>\n",
       "    .dataframe tbody tr th:only-of-type {\n",
       "        vertical-align: middle;\n",
       "    }\n",
       "\n",
       "    .dataframe tbody tr th {\n",
       "        vertical-align: top;\n",
       "    }\n",
       "\n",
       "    .dataframe thead th {\n",
       "        text-align: right;\n",
       "    }\n",
       "</style>\n",
       "<table border=\"1\" class=\"dataframe\">\n",
       "  <thead>\n",
       "    <tr style=\"text-align: right;\">\n",
       "      <th></th>\n",
       "      <th>radius</th>\n",
       "      <th>texture</th>\n",
       "      <th>perimeter</th>\n",
       "      <th>area</th>\n",
       "      <th>smoothness</th>\n",
       "      <th>compactness</th>\n",
       "      <th>symmetry</th>\n",
       "      <th>fractal_dimension</th>\n",
       "    </tr>\n",
       "  </thead>\n",
       "  <tbody>\n",
       "    <tr>\n",
       "      <th>0</th>\n",
       "      <td>-1.475910</td>\n",
       "      <td>-0.957612</td>\n",
       "      <td>-0.353864</td>\n",
       "      <td>-0.433901</td>\n",
       "      <td>-0.080727</td>\n",
       "      <td>-0.122324</td>\n",
       "      <td>-0.750130</td>\n",
       "      <td>-0.196618</td>\n",
       "    </tr>\n",
       "    <tr>\n",
       "      <th>1</th>\n",
       "      <td>-0.197802</td>\n",
       "      <td>0.016703</td>\n",
       "      <td>-0.567035</td>\n",
       "      <td>-0.621775</td>\n",
       "      <td>0.672726</td>\n",
       "      <td>-0.122324</td>\n",
       "      <td>-0.138811</td>\n",
       "      <td>0.046980</td>\n",
       "    </tr>\n",
       "    <tr>\n",
       "      <th>2</th>\n",
       "      <td>0.867288</td>\n",
       "      <td>-1.347338</td>\n",
       "      <td>0.754626</td>\n",
       "      <td>0.724659</td>\n",
       "      <td>0.295999</td>\n",
       "      <td>0.807337</td>\n",
       "      <td>-0.074461</td>\n",
       "      <td>-0.074819</td>\n",
       "    </tr>\n",
       "    <tr>\n",
       "      <th>3</th>\n",
       "      <td>-0.410820</td>\n",
       "      <td>-0.178160</td>\n",
       "      <td>-1.334451</td>\n",
       "      <td>-1.207318</td>\n",
       "      <td>0.748071</td>\n",
       "      <td>-0.856266</td>\n",
       "      <td>2.531688</td>\n",
       "      <td>0.534175</td>\n",
       "    </tr>\n",
       "    <tr>\n",
       "      <th>4</th>\n",
       "      <td>1.080306</td>\n",
       "      <td>-1.347338</td>\n",
       "      <td>-1.888696</td>\n",
       "      <td>-1.551755</td>\n",
       "      <td>-1.286252</td>\n",
       "      <td>-1.215082</td>\n",
       "      <td>-0.589256</td>\n",
       "      <td>-0.074819</td>\n",
       "    </tr>\n",
       "  </tbody>\n",
       "</table>\n",
       "</div>"
      ],
      "text/plain": [
       "     radius   texture  perimeter      area  smoothness  compactness  symmetry  \\\n",
       "0 -1.475910 -0.957612  -0.353864 -0.433901   -0.080727    -0.122324 -0.750130   \n",
       "1 -0.197802  0.016703  -0.567035 -0.621775    0.672726    -0.122324 -0.138811   \n",
       "2  0.867288 -1.347338   0.754626  0.724659    0.295999     0.807337 -0.074461   \n",
       "3 -0.410820 -0.178160  -1.334451 -1.207318    0.748071    -0.856266  2.531688   \n",
       "4  1.080306 -1.347338  -1.888696 -1.551755   -1.286252    -1.215082 -0.589256   \n",
       "\n",
       "   fractal_dimension  \n",
       "0          -0.196618  \n",
       "1           0.046980  \n",
       "2          -0.074819  \n",
       "3           0.534175  \n",
       "4          -0.074819  "
      ]
     },
     "execution_count": 15,
     "metadata": {},
     "output_type": "execute_result"
    }
   ],
   "source": [
    "X_train=pd.DataFrame(X_train,columns=['radius', 'texture', 'perimeter', 'area','smoothness', 'compactness', 'symmetry', 'fractal_dimension'])\n",
    "X_train.head()"
   ]
  },
  {
   "cell_type": "code",
   "execution_count": 37,
   "metadata": {
    "id": "dRsKF7N1swHe"
   },
   "outputs": [],
   "source": [
    "y_train.reset_index(drop=True, inplace=True)"
   ]
  },
  {
   "cell_type": "code",
   "execution_count": 17,
   "metadata": {
    "id": "fWhqK_LLswHg",
    "outputId": "43d20cdb-bd4a-4291-9e9e-e7de5722ede5"
   },
   "outputs": [
    {
     "data": {
      "text/html": [
       "<div>\n",
       "<style scoped>\n",
       "    .dataframe tbody tr th:only-of-type {\n",
       "        vertical-align: middle;\n",
       "    }\n",
       "\n",
       "    .dataframe tbody tr th {\n",
       "        vertical-align: top;\n",
       "    }\n",
       "\n",
       "    .dataframe thead th {\n",
       "        text-align: right;\n",
       "    }\n",
       "</style>\n",
       "<table border=\"1\" class=\"dataframe\">\n",
       "  <thead>\n",
       "    <tr style=\"text-align: right;\">\n",
       "      <th></th>\n",
       "      <th>radius</th>\n",
       "      <th>texture</th>\n",
       "      <th>perimeter</th>\n",
       "      <th>area</th>\n",
       "      <th>smoothness</th>\n",
       "      <th>compactness</th>\n",
       "      <th>symmetry</th>\n",
       "      <th>fractal_dimension</th>\n",
       "      <th>diagnosis_result</th>\n",
       "    </tr>\n",
       "  </thead>\n",
       "  <tbody>\n",
       "    <tr>\n",
       "      <th>0</th>\n",
       "      <td>-1.475910</td>\n",
       "      <td>-0.957612</td>\n",
       "      <td>-0.353864</td>\n",
       "      <td>-0.433901</td>\n",
       "      <td>-0.080727</td>\n",
       "      <td>-0.122324</td>\n",
       "      <td>-0.750130</td>\n",
       "      <td>-0.196618</td>\n",
       "      <td>M</td>\n",
       "    </tr>\n",
       "    <tr>\n",
       "      <th>1</th>\n",
       "      <td>-0.197802</td>\n",
       "      <td>0.016703</td>\n",
       "      <td>-0.567035</td>\n",
       "      <td>-0.621775</td>\n",
       "      <td>0.672726</td>\n",
       "      <td>-0.122324</td>\n",
       "      <td>-0.138811</td>\n",
       "      <td>0.046980</td>\n",
       "      <td>M</td>\n",
       "    </tr>\n",
       "    <tr>\n",
       "      <th>2</th>\n",
       "      <td>0.867288</td>\n",
       "      <td>-1.347338</td>\n",
       "      <td>0.754626</td>\n",
       "      <td>0.724659</td>\n",
       "      <td>0.295999</td>\n",
       "      <td>0.807337</td>\n",
       "      <td>-0.074461</td>\n",
       "      <td>-0.074819</td>\n",
       "      <td>M</td>\n",
       "    </tr>\n",
       "    <tr>\n",
       "      <th>3</th>\n",
       "      <td>-0.410820</td>\n",
       "      <td>-0.178160</td>\n",
       "      <td>-1.334451</td>\n",
       "      <td>-1.207318</td>\n",
       "      <td>0.748071</td>\n",
       "      <td>-0.856266</td>\n",
       "      <td>2.531688</td>\n",
       "      <td>0.534175</td>\n",
       "      <td>B</td>\n",
       "    </tr>\n",
       "    <tr>\n",
       "      <th>4</th>\n",
       "      <td>1.080306</td>\n",
       "      <td>-1.347338</td>\n",
       "      <td>-1.888696</td>\n",
       "      <td>-1.551755</td>\n",
       "      <td>-1.286252</td>\n",
       "      <td>-1.215082</td>\n",
       "      <td>-0.589256</td>\n",
       "      <td>-0.074819</td>\n",
       "      <td>B</td>\n",
       "    </tr>\n",
       "  </tbody>\n",
       "</table>\n",
       "</div>"
      ],
      "text/plain": [
       "     radius   texture  perimeter      area  smoothness  compactness  symmetry  \\\n",
       "0 -1.475910 -0.957612  -0.353864 -0.433901   -0.080727    -0.122324 -0.750130   \n",
       "1 -0.197802  0.016703  -0.567035 -0.621775    0.672726    -0.122324 -0.138811   \n",
       "2  0.867288 -1.347338   0.754626  0.724659    0.295999     0.807337 -0.074461   \n",
       "3 -0.410820 -0.178160  -1.334451 -1.207318    0.748071    -0.856266  2.531688   \n",
       "4  1.080306 -1.347338  -1.888696 -1.551755   -1.286252    -1.215082 -0.589256   \n",
       "\n",
       "   fractal_dimension diagnosis_result  \n",
       "0          -0.196618                M  \n",
       "1           0.046980                M  \n",
       "2          -0.074819                M  \n",
       "3           0.534175                B  \n",
       "4          -0.074819                B  "
      ]
     },
     "execution_count": 17,
     "metadata": {},
     "output_type": "execute_result"
    }
   ],
   "source": [
    "train=pd.concat([X_train,y_train],axis=1)\n",
    "train.head()"
   ]
  },
  {
   "cell_type": "code",
   "execution_count": 18,
   "metadata": {
    "id": "G4sDZvOxswHk",
    "outputId": "d26562b5-f581-4a31-b082-594e3c9f21fb"
   },
   "outputs": [
    {
     "data": {
      "text/html": [
       "<div>\n",
       "<style scoped>\n",
       "    .dataframe tbody tr th:only-of-type {\n",
       "        vertical-align: middle;\n",
       "    }\n",
       "\n",
       "    .dataframe tbody tr th {\n",
       "        vertical-align: top;\n",
       "    }\n",
       "\n",
       "    .dataframe thead th {\n",
       "        text-align: right;\n",
       "    }\n",
       "</style>\n",
       "<table border=\"1\" class=\"dataframe\">\n",
       "  <thead>\n",
       "    <tr style=\"text-align: right;\">\n",
       "      <th></th>\n",
       "      <th>radius</th>\n",
       "      <th>texture</th>\n",
       "      <th>perimeter</th>\n",
       "      <th>area</th>\n",
       "      <th>smoothness</th>\n",
       "      <th>compactness</th>\n",
       "      <th>symmetry</th>\n",
       "      <th>fractal_dimension</th>\n",
       "      <th>diagnosis_result</th>\n",
       "      <th>Predicted</th>\n",
       "    </tr>\n",
       "  </thead>\n",
       "  <tbody>\n",
       "    <tr>\n",
       "      <th>0</th>\n",
       "      <td>-1.475910</td>\n",
       "      <td>-0.957612</td>\n",
       "      <td>-0.353864</td>\n",
       "      <td>-0.433901</td>\n",
       "      <td>-0.080727</td>\n",
       "      <td>-0.122324</td>\n",
       "      <td>-0.750130</td>\n",
       "      <td>-0.196618</td>\n",
       "      <td>M</td>\n",
       "      <td>M</td>\n",
       "    </tr>\n",
       "    <tr>\n",
       "      <th>1</th>\n",
       "      <td>-0.197802</td>\n",
       "      <td>0.016703</td>\n",
       "      <td>-0.567035</td>\n",
       "      <td>-0.621775</td>\n",
       "      <td>0.672726</td>\n",
       "      <td>-0.122324</td>\n",
       "      <td>-0.138811</td>\n",
       "      <td>0.046980</td>\n",
       "      <td>M</td>\n",
       "      <td>M</td>\n",
       "    </tr>\n",
       "    <tr>\n",
       "      <th>2</th>\n",
       "      <td>0.867288</td>\n",
       "      <td>-1.347338</td>\n",
       "      <td>0.754626</td>\n",
       "      <td>0.724659</td>\n",
       "      <td>0.295999</td>\n",
       "      <td>0.807337</td>\n",
       "      <td>-0.074461</td>\n",
       "      <td>-0.074819</td>\n",
       "      <td>M</td>\n",
       "      <td>M</td>\n",
       "    </tr>\n",
       "    <tr>\n",
       "      <th>3</th>\n",
       "      <td>-0.410820</td>\n",
       "      <td>-0.178160</td>\n",
       "      <td>-1.334451</td>\n",
       "      <td>-1.207318</td>\n",
       "      <td>0.748071</td>\n",
       "      <td>-0.856266</td>\n",
       "      <td>2.531688</td>\n",
       "      <td>0.534175</td>\n",
       "      <td>B</td>\n",
       "      <td>M</td>\n",
       "    </tr>\n",
       "    <tr>\n",
       "      <th>4</th>\n",
       "      <td>1.080306</td>\n",
       "      <td>-1.347338</td>\n",
       "      <td>-1.888696</td>\n",
       "      <td>-1.551755</td>\n",
       "      <td>-1.286252</td>\n",
       "      <td>-1.215082</td>\n",
       "      <td>-0.589256</td>\n",
       "      <td>-0.074819</td>\n",
       "      <td>B</td>\n",
       "      <td>B</td>\n",
       "    </tr>\n",
       "  </tbody>\n",
       "</table>\n",
       "</div>"
      ],
      "text/plain": [
       "     radius   texture  perimeter      area  smoothness  compactness  symmetry  \\\n",
       "0 -1.475910 -0.957612  -0.353864 -0.433901   -0.080727    -0.122324 -0.750130   \n",
       "1 -0.197802  0.016703  -0.567035 -0.621775    0.672726    -0.122324 -0.138811   \n",
       "2  0.867288 -1.347338   0.754626  0.724659    0.295999     0.807337 -0.074461   \n",
       "3 -0.410820 -0.178160  -1.334451 -1.207318    0.748071    -0.856266  2.531688   \n",
       "4  1.080306 -1.347338  -1.888696 -1.551755   -1.286252    -1.215082 -0.589256   \n",
       "\n",
       "   fractal_dimension diagnosis_result Predicted  \n",
       "0          -0.196618                M         M  \n",
       "1           0.046980                M         M  \n",
       "2          -0.074819                M         M  \n",
       "3           0.534175                B         M  \n",
       "4          -0.074819                B         B  "
      ]
     },
     "execution_count": 18,
     "metadata": {},
     "output_type": "execute_result"
    }
   ],
   "source": [
    "train['Predicted']=model.predict(X_train)\n",
    "train.head()"
   ]
  },
  {
   "cell_type": "markdown",
   "metadata": {
    "id": "s5ejk3QuswHl"
   },
   "source": [
    "# Step 7 : Model Performance Metrics"
   ]
  },
  {
   "cell_type": "code",
   "execution_count": 19,
   "metadata": {
    "id": "vT_pym58swHl",
    "outputId": "a20ce3e6-2995-4f4f-b62b-884e160962ad"
   },
   "outputs": [
    {
     "name": "stdout",
     "output_type": "stream",
     "text": [
      "[[16  5]\n",
      " [ 2 47]]\n"
     ]
    }
   ],
   "source": [
    "from sklearn.metrics import confusion_matrix\n",
    "confusion_matrix = confusion_matrix(train['diagnosis_result'],train['Predicted'])\n",
    "print(confusion_matrix)"
   ]
  },
  {
   "cell_type": "code",
   "execution_count": 20,
   "metadata": {
    "id": "EExDYGY2swHn",
    "outputId": "0a29825a-46be-4215-c59b-e6001873bc23"
   },
   "outputs": [
    {
     "name": "stdout",
     "output_type": "stream",
     "text": [
      "90.0\n"
     ]
    }
   ],
   "source": [
    "Accuracy_Train=((16+47)/(70)*100)\n",
    "print(Accuracy_Train)"
   ]
  },
  {
   "cell_type": "code",
   "execution_count": 21,
   "metadata": {
    "id": "Gl_JuUqXswHp",
    "outputId": "6b7250ea-bb4c-462e-99a5-d8c3202b67df",
    "scrolled": true
   },
   "outputs": [
    {
     "name": "stdout",
     "output_type": "stream",
     "text": [
      "              precision    recall  f1-score   support\n",
      "\n",
      "           B       0.89      0.76      0.82        21\n",
      "           M       0.90      0.96      0.93        49\n",
      "\n",
      "    accuracy                           0.90        70\n",
      "   macro avg       0.90      0.86      0.88        70\n",
      "weighted avg       0.90      0.90      0.90        70\n",
      "\n"
     ]
    }
   ],
   "source": [
    "from sklearn.metrics import classification_report\n",
    "print(classification_report(train['diagnosis_result'], train['Predicted']))"
   ]
  },
  {
   "cell_type": "markdown",
   "metadata": {
    "id": "UCn-pKOxswHr"
   },
   "source": [
    "# Step 8 : Predictions on Test Dataset"
   ]
  },
  {
   "cell_type": "code",
   "execution_count": 22,
   "metadata": {
    "id": "K1oERgRTswHr",
    "outputId": "4257ecbd-2367-4814-e8cc-0832e58129e5"
   },
   "outputs": [
    {
     "data": {
      "text/html": [
       "<div>\n",
       "<style scoped>\n",
       "    .dataframe tbody tr th:only-of-type {\n",
       "        vertical-align: middle;\n",
       "    }\n",
       "\n",
       "    .dataframe tbody tr th {\n",
       "        vertical-align: top;\n",
       "    }\n",
       "\n",
       "    .dataframe thead th {\n",
       "        text-align: right;\n",
       "    }\n",
       "</style>\n",
       "<table border=\"1\" class=\"dataframe\">\n",
       "  <thead>\n",
       "    <tr style=\"text-align: right;\">\n",
       "      <th></th>\n",
       "      <th>radius</th>\n",
       "      <th>texture</th>\n",
       "      <th>perimeter</th>\n",
       "      <th>area</th>\n",
       "      <th>smoothness</th>\n",
       "      <th>compactness</th>\n",
       "      <th>symmetry</th>\n",
       "      <th>fractal_dimension</th>\n",
       "    </tr>\n",
       "  </thead>\n",
       "  <tbody>\n",
       "    <tr>\n",
       "      <th>0</th>\n",
       "      <td>0.867288</td>\n",
       "      <td>-0.178160</td>\n",
       "      <td>1.180968</td>\n",
       "      <td>1.354039</td>\n",
       "      <td>-0.984871</td>\n",
       "      <td>-0.497450</td>\n",
       "      <td>-1.200576</td>\n",
       "      <td>-1.292808</td>\n",
       "    </tr>\n",
       "    <tr>\n",
       "      <th>1</th>\n",
       "      <td>0.228234</td>\n",
       "      <td>-1.152475</td>\n",
       "      <td>-0.737572</td>\n",
       "      <td>-0.709450</td>\n",
       "      <td>-0.834180</td>\n",
       "      <td>-1.068294</td>\n",
       "      <td>-0.750130</td>\n",
       "      <td>-0.805612</td>\n",
       "    </tr>\n",
       "    <tr>\n",
       "      <th>2</th>\n",
       "      <td>0.867288</td>\n",
       "      <td>1.575606</td>\n",
       "      <td>1.436773</td>\n",
       "      <td>1.582620</td>\n",
       "      <td>1.652215</td>\n",
       "      <td>0.432210</td>\n",
       "      <td>0.375984</td>\n",
       "      <td>-0.683813</td>\n",
       "    </tr>\n",
       "    <tr>\n",
       "      <th>3</th>\n",
       "      <td>-1.475910</td>\n",
       "      <td>-0.762749</td>\n",
       "      <td>-0.481767</td>\n",
       "      <td>-0.518444</td>\n",
       "      <td>-0.457454</td>\n",
       "      <td>-0.464830</td>\n",
       "      <td>-0.653606</td>\n",
       "      <td>-0.440216</td>\n",
       "    </tr>\n",
       "    <tr>\n",
       "      <th>4</th>\n",
       "      <td>-1.475910</td>\n",
       "      <td>0.016703</td>\n",
       "      <td>1.266236</td>\n",
       "      <td>1.422926</td>\n",
       "      <td>0.145309</td>\n",
       "      <td>-0.106014</td>\n",
       "      <td>-0.106636</td>\n",
       "      <td>-0.683813</td>\n",
       "    </tr>\n",
       "  </tbody>\n",
       "</table>\n",
       "</div>"
      ],
      "text/plain": [
       "     radius   texture  perimeter      area  smoothness  compactness  symmetry  \\\n",
       "0  0.867288 -0.178160   1.180968  1.354039   -0.984871    -0.497450 -1.200576   \n",
       "1  0.228234 -1.152475  -0.737572 -0.709450   -0.834180    -1.068294 -0.750130   \n",
       "2  0.867288  1.575606   1.436773  1.582620    1.652215     0.432210  0.375984   \n",
       "3 -1.475910 -0.762749  -0.481767 -0.518444   -0.457454    -0.464830 -0.653606   \n",
       "4 -1.475910  0.016703   1.266236  1.422926    0.145309    -0.106014 -0.106636   \n",
       "\n",
       "   fractal_dimension  \n",
       "0          -1.292808  \n",
       "1          -0.805612  \n",
       "2          -0.683813  \n",
       "3          -0.440216  \n",
       "4          -0.683813  "
      ]
     },
     "execution_count": 22,
     "metadata": {},
     "output_type": "execute_result"
    }
   ],
   "source": [
    "X_test=pd.DataFrame(X_test,columns=['radius', 'texture', 'perimeter', 'area','smoothness', 'compactness', 'symmetry', 'fractal_dimension'])\n",
    "X_test.head()"
   ]
  },
  {
   "cell_type": "code",
   "execution_count": 23,
   "metadata": {
    "id": "6_eJF9ntswHv"
   },
   "outputs": [],
   "source": [
    "y_test.reset_index(drop=True, inplace=True)"
   ]
  },
  {
   "cell_type": "code",
   "execution_count": 24,
   "metadata": {
    "id": "GU-WqIiCswHz",
    "outputId": "cae3e7fe-28ac-4f70-81f5-0227c34ac986"
   },
   "outputs": [
    {
     "data": {
      "text/html": [
       "<div>\n",
       "<style scoped>\n",
       "    .dataframe tbody tr th:only-of-type {\n",
       "        vertical-align: middle;\n",
       "    }\n",
       "\n",
       "    .dataframe tbody tr th {\n",
       "        vertical-align: top;\n",
       "    }\n",
       "\n",
       "    .dataframe thead th {\n",
       "        text-align: right;\n",
       "    }\n",
       "</style>\n",
       "<table border=\"1\" class=\"dataframe\">\n",
       "  <thead>\n",
       "    <tr style=\"text-align: right;\">\n",
       "      <th></th>\n",
       "      <th>radius</th>\n",
       "      <th>texture</th>\n",
       "      <th>perimeter</th>\n",
       "      <th>area</th>\n",
       "      <th>smoothness</th>\n",
       "      <th>compactness</th>\n",
       "      <th>symmetry</th>\n",
       "      <th>fractal_dimension</th>\n",
       "      <th>diagnosis_result</th>\n",
       "    </tr>\n",
       "  </thead>\n",
       "  <tbody>\n",
       "    <tr>\n",
       "      <th>0</th>\n",
       "      <td>0.867288</td>\n",
       "      <td>-0.178160</td>\n",
       "      <td>1.180968</td>\n",
       "      <td>1.354039</td>\n",
       "      <td>-0.984871</td>\n",
       "      <td>-0.497450</td>\n",
       "      <td>-1.200576</td>\n",
       "      <td>-1.292808</td>\n",
       "      <td>M</td>\n",
       "    </tr>\n",
       "    <tr>\n",
       "      <th>1</th>\n",
       "      <td>0.228234</td>\n",
       "      <td>-1.152475</td>\n",
       "      <td>-0.737572</td>\n",
       "      <td>-0.709450</td>\n",
       "      <td>-0.834180</td>\n",
       "      <td>-1.068294</td>\n",
       "      <td>-0.750130</td>\n",
       "      <td>-0.805612</td>\n",
       "      <td>B</td>\n",
       "    </tr>\n",
       "    <tr>\n",
       "      <th>2</th>\n",
       "      <td>0.867288</td>\n",
       "      <td>1.575606</td>\n",
       "      <td>1.436773</td>\n",
       "      <td>1.582620</td>\n",
       "      <td>1.652215</td>\n",
       "      <td>0.432210</td>\n",
       "      <td>0.375984</td>\n",
       "      <td>-0.683813</td>\n",
       "      <td>M</td>\n",
       "    </tr>\n",
       "    <tr>\n",
       "      <th>3</th>\n",
       "      <td>-1.475910</td>\n",
       "      <td>-0.762749</td>\n",
       "      <td>-0.481767</td>\n",
       "      <td>-0.518444</td>\n",
       "      <td>-0.457454</td>\n",
       "      <td>-0.464830</td>\n",
       "      <td>-0.653606</td>\n",
       "      <td>-0.440216</td>\n",
       "      <td>M</td>\n",
       "    </tr>\n",
       "    <tr>\n",
       "      <th>4</th>\n",
       "      <td>-1.475910</td>\n",
       "      <td>0.016703</td>\n",
       "      <td>1.266236</td>\n",
       "      <td>1.422926</td>\n",
       "      <td>0.145309</td>\n",
       "      <td>-0.106014</td>\n",
       "      <td>-0.106636</td>\n",
       "      <td>-0.683813</td>\n",
       "      <td>M</td>\n",
       "    </tr>\n",
       "  </tbody>\n",
       "</table>\n",
       "</div>"
      ],
      "text/plain": [
       "     radius   texture  perimeter      area  smoothness  compactness  symmetry  \\\n",
       "0  0.867288 -0.178160   1.180968  1.354039   -0.984871    -0.497450 -1.200576   \n",
       "1  0.228234 -1.152475  -0.737572 -0.709450   -0.834180    -1.068294 -0.750130   \n",
       "2  0.867288  1.575606   1.436773  1.582620    1.652215     0.432210  0.375984   \n",
       "3 -1.475910 -0.762749  -0.481767 -0.518444   -0.457454    -0.464830 -0.653606   \n",
       "4 -1.475910  0.016703   1.266236  1.422926    0.145309    -0.106014 -0.106636   \n",
       "\n",
       "   fractal_dimension diagnosis_result  \n",
       "0          -1.292808                M  \n",
       "1          -0.805612                B  \n",
       "2          -0.683813                M  \n",
       "3          -0.440216                M  \n",
       "4          -0.683813                M  "
      ]
     },
     "execution_count": 24,
     "metadata": {},
     "output_type": "execute_result"
    }
   ],
   "source": [
    "test=pd.concat([X_test,y_test],axis=1)\n",
    "test.head()"
   ]
  },
  {
   "cell_type": "code",
   "execution_count": 25,
   "metadata": {
    "id": "y_nbI-b8swH0",
    "outputId": "8ef909c4-fac0-47a2-d9f5-d0c97844bece"
   },
   "outputs": [
    {
     "data": {
      "text/html": [
       "<div>\n",
       "<style scoped>\n",
       "    .dataframe tbody tr th:only-of-type {\n",
       "        vertical-align: middle;\n",
       "    }\n",
       "\n",
       "    .dataframe tbody tr th {\n",
       "        vertical-align: top;\n",
       "    }\n",
       "\n",
       "    .dataframe thead th {\n",
       "        text-align: right;\n",
       "    }\n",
       "</style>\n",
       "<table border=\"1\" class=\"dataframe\">\n",
       "  <thead>\n",
       "    <tr style=\"text-align: right;\">\n",
       "      <th></th>\n",
       "      <th>radius</th>\n",
       "      <th>texture</th>\n",
       "      <th>perimeter</th>\n",
       "      <th>area</th>\n",
       "      <th>smoothness</th>\n",
       "      <th>compactness</th>\n",
       "      <th>symmetry</th>\n",
       "      <th>fractal_dimension</th>\n",
       "      <th>diagnosis_result</th>\n",
       "      <th>Predicted</th>\n",
       "    </tr>\n",
       "  </thead>\n",
       "  <tbody>\n",
       "    <tr>\n",
       "      <th>0</th>\n",
       "      <td>0.867288</td>\n",
       "      <td>-0.178160</td>\n",
       "      <td>1.180968</td>\n",
       "      <td>1.354039</td>\n",
       "      <td>-0.984871</td>\n",
       "      <td>-0.497450</td>\n",
       "      <td>-1.200576</td>\n",
       "      <td>-1.292808</td>\n",
       "      <td>M</td>\n",
       "      <td>M</td>\n",
       "    </tr>\n",
       "    <tr>\n",
       "      <th>1</th>\n",
       "      <td>0.228234</td>\n",
       "      <td>-1.152475</td>\n",
       "      <td>-0.737572</td>\n",
       "      <td>-0.709450</td>\n",
       "      <td>-0.834180</td>\n",
       "      <td>-1.068294</td>\n",
       "      <td>-0.750130</td>\n",
       "      <td>-0.805612</td>\n",
       "      <td>B</td>\n",
       "      <td>B</td>\n",
       "    </tr>\n",
       "    <tr>\n",
       "      <th>2</th>\n",
       "      <td>0.867288</td>\n",
       "      <td>1.575606</td>\n",
       "      <td>1.436773</td>\n",
       "      <td>1.582620</td>\n",
       "      <td>1.652215</td>\n",
       "      <td>0.432210</td>\n",
       "      <td>0.375984</td>\n",
       "      <td>-0.683813</td>\n",
       "      <td>M</td>\n",
       "      <td>M</td>\n",
       "    </tr>\n",
       "    <tr>\n",
       "      <th>3</th>\n",
       "      <td>-1.475910</td>\n",
       "      <td>-0.762749</td>\n",
       "      <td>-0.481767</td>\n",
       "      <td>-0.518444</td>\n",
       "      <td>-0.457454</td>\n",
       "      <td>-0.464830</td>\n",
       "      <td>-0.653606</td>\n",
       "      <td>-0.440216</td>\n",
       "      <td>M</td>\n",
       "      <td>M</td>\n",
       "    </tr>\n",
       "    <tr>\n",
       "      <th>4</th>\n",
       "      <td>-1.475910</td>\n",
       "      <td>0.016703</td>\n",
       "      <td>1.266236</td>\n",
       "      <td>1.422926</td>\n",
       "      <td>0.145309</td>\n",
       "      <td>-0.106014</td>\n",
       "      <td>-0.106636</td>\n",
       "      <td>-0.683813</td>\n",
       "      <td>M</td>\n",
       "      <td>M</td>\n",
       "    </tr>\n",
       "  </tbody>\n",
       "</table>\n",
       "</div>"
      ],
      "text/plain": [
       "     radius   texture  perimeter      area  smoothness  compactness  symmetry  \\\n",
       "0  0.867288 -0.178160   1.180968  1.354039   -0.984871    -0.497450 -1.200576   \n",
       "1  0.228234 -1.152475  -0.737572 -0.709450   -0.834180    -1.068294 -0.750130   \n",
       "2  0.867288  1.575606   1.436773  1.582620    1.652215     0.432210  0.375984   \n",
       "3 -1.475910 -0.762749  -0.481767 -0.518444   -0.457454    -0.464830 -0.653606   \n",
       "4 -1.475910  0.016703   1.266236  1.422926    0.145309    -0.106014 -0.106636   \n",
       "\n",
       "   fractal_dimension diagnosis_result Predicted  \n",
       "0          -1.292808                M         M  \n",
       "1          -0.805612                B         B  \n",
       "2          -0.683813                M         M  \n",
       "3          -0.440216                M         M  \n",
       "4          -0.683813                M         M  "
      ]
     },
     "execution_count": 25,
     "metadata": {},
     "output_type": "execute_result"
    }
   ],
   "source": [
    "test['Predicted']=model.predict(X_test)\n",
    "test.head()"
   ]
  },
  {
   "cell_type": "markdown",
   "metadata": {
    "id": "36WQjtwPswH1"
   },
   "source": [
    "# Step 9 : Model Performance Metrics on Test data "
   ]
  },
  {
   "cell_type": "code",
   "execution_count": 26,
   "metadata": {
    "id": "GayjbYRUswH3",
    "outputId": "8e98fb21-a768-474d-c911-590f721c879c"
   },
   "outputs": [
    {
     "name": "stdout",
     "output_type": "stream",
     "text": [
      "[[13  4]\n",
      " [ 0 13]]\n"
     ]
    }
   ],
   "source": [
    "from sklearn.metrics import confusion_matrix\n",
    "confusion_matrix = confusion_matrix(test['diagnosis_result'],test['Predicted'])\n",
    "print(confusion_matrix)"
   ]
  },
  {
   "cell_type": "code",
   "execution_count": 27,
   "metadata": {
    "id": "tJN4OSM1swH4",
    "outputId": "4343474f-9061-4d06-ed55-db8291c07771"
   },
   "outputs": [
    {
     "data": {
      "text/plain": [
       "86.66666666666667"
      ]
     },
     "execution_count": 27,
     "metadata": {},
     "output_type": "execute_result"
    }
   ],
   "source": [
    "Accuracy_test=((13+13)/(30)*100)\n",
    "Accuracy_test"
   ]
  },
  {
   "cell_type": "code",
   "execution_count": 28,
   "metadata": {
    "id": "SJZk8TvhswH5",
    "outputId": "a4e69103-b19e-4800-accc-fbc49da45c46",
    "scrolled": true
   },
   "outputs": [
    {
     "name": "stdout",
     "output_type": "stream",
     "text": [
      "              precision    recall  f1-score   support\n",
      "\n",
      "           B       1.00      0.76      0.87        17\n",
      "           M       0.76      1.00      0.87        13\n",
      "\n",
      "    accuracy                           0.87        30\n",
      "   macro avg       0.88      0.88      0.87        30\n",
      "weighted avg       0.90      0.87      0.87        30\n",
      "\n"
     ]
    }
   ],
   "source": [
    "from sklearn.metrics import classification_report\n",
    "print(classification_report(test['diagnosis_result'], test['Predicted']))"
   ]
  },
  {
   "cell_type": "markdown",
   "metadata": {
    "id": "i-xPc6QwswIG"
   },
   "source": [
    "# Cross Validation Method  - Random concept\n",
    "\n",
    "* To identify the best value of K"
   ]
  },
  {
   "cell_type": "code",
   "execution_count": 29,
   "metadata": {
    "id": "Hrl3DMQnswII",
    "outputId": "a5866808-2ccd-411d-aab5-546dec4b940b"
   },
   "outputs": [
    {
     "name": "stdout",
     "output_type": "stream",
     "text": [
      "Train Accuracy is  100.0        Test Accuracy is  73.0 % for K-Value: 1\n",
      "Train Accuracy is  87.0        Test Accuracy is  77.0 % for K-Value: 2\n",
      "Train Accuracy is  90.0        Test Accuracy is  77.0 % for K-Value: 3\n",
      "Train Accuracy is  89.0        Test Accuracy is  83.0 % for K-Value: 4\n",
      "Train Accuracy is  90.0        Test Accuracy is  73.0 % for K-Value: 5\n",
      "Train Accuracy is  91.0        Test Accuracy is  80.0 % for K-Value: 6\n",
      "Train Accuracy is  91.0        Test Accuracy is  77.0 % for K-Value: 7\n",
      "Train Accuracy is  90.0        Test Accuracy is  87.0 % for K-Value: 8\n",
      "Train Accuracy is  89.0        Test Accuracy is  80.0 % for K-Value: 9\n",
      "Train Accuracy is  90.0        Test Accuracy is  80.0 % for K-Value: 10\n",
      "Train Accuracy is  89.0        Test Accuracy is  73.0 % for K-Value: 11\n",
      "Train Accuracy is  89.0        Test Accuracy is  73.0 % for K-Value: 12\n",
      "Train Accuracy is  87.0        Test Accuracy is  70.0 % for K-Value: 13\n",
      "Train Accuracy is  87.0        Test Accuracy is  73.0 % for K-Value: 14\n",
      "Train Accuracy is  87.0        Test Accuracy is  67.0 % for K-Value: 15\n",
      "Train Accuracy is  87.0        Test Accuracy is  73.0 % for K-Value: 16\n",
      "Train Accuracy is  87.0        Test Accuracy is  63.0 % for K-Value: 17\n",
      "Train Accuracy is  90.0        Test Accuracy is  67.0 % for K-Value: 18\n",
      "Train Accuracy is  86.0        Test Accuracy is  63.0 % for K-Value: 19\n",
      "Train Accuracy is  87.0        Test Accuracy is  67.0 % for K-Value: 20\n",
      "Train Accuracy is  87.0        Test Accuracy is  63.0 % for K-Value: 21\n",
      "Train Accuracy is  87.0        Test Accuracy is  67.0 % for K-Value: 22\n",
      "Train Accuracy is  86.0        Test Accuracy is  60.0 % for K-Value: 23\n",
      "Train Accuracy is  86.0        Test Accuracy is  67.0 % for K-Value: 24\n",
      "Train Accuracy is  83.0        Test Accuracy is  57.0 % for K-Value: 25\n"
     ]
    }
   ],
   "source": [
    "from sklearn.metrics import accuracy_score\n",
    "for K in range(25):\n",
    "    K_value = K+1\n",
    "    model2 = KNeighborsClassifier(n_neighbors = K_value)\n",
    "    model2.fit(X_train, y_train) \n",
    "    y_pred_Train= model2.predict(X_train)\n",
    "    y_pred_test = model2.predict(X_test)\n",
    "    print(\"Train Accuracy is \", \n",
    "          round(accuracy_score(y_train,y_pred_Train)*100,0), \"      \",\"Test Accuracy is \", round(accuracy_score(y_test,y_pred_test)*100,0),\"% for K-Value:\",\n",
    "          K_value)"
   ]
  },
  {
   "cell_type": "markdown",
   "metadata": {
    "id": "nvnFBkmmswIJ"
   },
   "source": [
    "# train the decision tree\n",
    "## Instantiate the model with 5 neighbors. \n",
    "model = KNeighborsClassifier(n_neighbors=8,metric='euclidean')\n",
    "## Fit the model on the training data.\n",
    "model.fit(X_train, y_train)"
   ]
  },
  {
   "cell_type": "code",
   "execution_count": 30,
   "metadata": {
    "id": "stiBGWMcswIJ",
    "outputId": "4fbe5f77-bba9-42ab-d503-0cbc2c3726cd",
    "scrolled": true
   },
   "outputs": [
    {
     "name": "stdout",
     "output_type": "stream",
     "text": [
      "Fitting 10 folds for each of 7 candidates, totalling 70 fits\n"
     ]
    },
    {
     "data": {
      "text/html": [
       "<style>#sk-container-id-2 {color: black;background-color: white;}#sk-container-id-2 pre{padding: 0;}#sk-container-id-2 div.sk-toggleable {background-color: white;}#sk-container-id-2 label.sk-toggleable__label {cursor: pointer;display: block;width: 100%;margin-bottom: 0;padding: 0.3em;box-sizing: border-box;text-align: center;}#sk-container-id-2 label.sk-toggleable__label-arrow:before {content: \"▸\";float: left;margin-right: 0.25em;color: #696969;}#sk-container-id-2 label.sk-toggleable__label-arrow:hover:before {color: black;}#sk-container-id-2 div.sk-estimator:hover label.sk-toggleable__label-arrow:before {color: black;}#sk-container-id-2 div.sk-toggleable__content {max-height: 0;max-width: 0;overflow: hidden;text-align: left;background-color: #f0f8ff;}#sk-container-id-2 div.sk-toggleable__content pre {margin: 0.2em;color: black;border-radius: 0.25em;background-color: #f0f8ff;}#sk-container-id-2 input.sk-toggleable__control:checked~div.sk-toggleable__content {max-height: 200px;max-width: 100%;overflow: auto;}#sk-container-id-2 input.sk-toggleable__control:checked~label.sk-toggleable__label-arrow:before {content: \"▾\";}#sk-container-id-2 div.sk-estimator input.sk-toggleable__control:checked~label.sk-toggleable__label {background-color: #d4ebff;}#sk-container-id-2 div.sk-label input.sk-toggleable__control:checked~label.sk-toggleable__label {background-color: #d4ebff;}#sk-container-id-2 input.sk-hidden--visually {border: 0;clip: rect(1px 1px 1px 1px);clip: rect(1px, 1px, 1px, 1px);height: 1px;margin: -1px;overflow: hidden;padding: 0;position: absolute;width: 1px;}#sk-container-id-2 div.sk-estimator {font-family: monospace;background-color: #f0f8ff;border: 1px dotted black;border-radius: 0.25em;box-sizing: border-box;margin-bottom: 0.5em;}#sk-container-id-2 div.sk-estimator:hover {background-color: #d4ebff;}#sk-container-id-2 div.sk-parallel-item::after {content: \"\";width: 100%;border-bottom: 1px solid gray;flex-grow: 1;}#sk-container-id-2 div.sk-label:hover label.sk-toggleable__label {background-color: #d4ebff;}#sk-container-id-2 div.sk-serial::before {content: \"\";position: absolute;border-left: 1px solid gray;box-sizing: border-box;top: 0;bottom: 0;left: 50%;z-index: 0;}#sk-container-id-2 div.sk-serial {display: flex;flex-direction: column;align-items: center;background-color: white;padding-right: 0.2em;padding-left: 0.2em;position: relative;}#sk-container-id-2 div.sk-item {position: relative;z-index: 1;}#sk-container-id-2 div.sk-parallel {display: flex;align-items: stretch;justify-content: center;background-color: white;position: relative;}#sk-container-id-2 div.sk-item::before, #sk-container-id-2 div.sk-parallel-item::before {content: \"\";position: absolute;border-left: 1px solid gray;box-sizing: border-box;top: 0;bottom: 0;left: 50%;z-index: -1;}#sk-container-id-2 div.sk-parallel-item {display: flex;flex-direction: column;z-index: 1;position: relative;background-color: white;}#sk-container-id-2 div.sk-parallel-item:first-child::after {align-self: flex-end;width: 50%;}#sk-container-id-2 div.sk-parallel-item:last-child::after {align-self: flex-start;width: 50%;}#sk-container-id-2 div.sk-parallel-item:only-child::after {width: 0;}#sk-container-id-2 div.sk-dashed-wrapped {border: 1px dashed gray;margin: 0 0.4em 0.5em 0.4em;box-sizing: border-box;padding-bottom: 0.4em;background-color: white;}#sk-container-id-2 div.sk-label label {font-family: monospace;font-weight: bold;display: inline-block;line-height: 1.2em;}#sk-container-id-2 div.sk-label-container {text-align: center;}#sk-container-id-2 div.sk-container {/* jupyter's `normalize.less` sets `[hidden] { display: none; }` but bootstrap.min.css set `[hidden] { display: none !important; }` so we also need the `!important` here to be able to override the default hidden behavior on the sphinx rendered scikit-learn.org. See: https://github.com/scikit-learn/scikit-learn/issues/21755 */display: inline-block !important;position: relative;}#sk-container-id-2 div.sk-text-repr-fallback {display: none;}</style><div id=\"sk-container-id-2\" class=\"sk-top-container\"><div class=\"sk-text-repr-fallback\"><pre>GridSearchCV(cv=10, estimator=KNeighborsClassifier(),\n",
       "             param_grid={&#x27;n_neighbors&#x27;: array([2, 3, 4, 5, 6, 7, 8])},\n",
       "             verbose=1)</pre><b>In a Jupyter environment, please rerun this cell to show the HTML representation or trust the notebook. <br />On GitHub, the HTML representation is unable to render, please try loading this page with nbviewer.org.</b></div><div class=\"sk-container\" hidden><div class=\"sk-item sk-dashed-wrapped\"><div class=\"sk-label-container\"><div class=\"sk-label sk-toggleable\"><input class=\"sk-toggleable__control sk-hidden--visually\" id=\"sk-estimator-id-2\" type=\"checkbox\" ><label for=\"sk-estimator-id-2\" class=\"sk-toggleable__label sk-toggleable__label-arrow\">GridSearchCV</label><div class=\"sk-toggleable__content\"><pre>GridSearchCV(cv=10, estimator=KNeighborsClassifier(),\n",
       "             param_grid={&#x27;n_neighbors&#x27;: array([2, 3, 4, 5, 6, 7, 8])},\n",
       "             verbose=1)</pre></div></div></div><div class=\"sk-parallel\"><div class=\"sk-parallel-item\"><div class=\"sk-item\"><div class=\"sk-label-container\"><div class=\"sk-label sk-toggleable\"><input class=\"sk-toggleable__control sk-hidden--visually\" id=\"sk-estimator-id-3\" type=\"checkbox\" ><label for=\"sk-estimator-id-3\" class=\"sk-toggleable__label sk-toggleable__label-arrow\">estimator: KNeighborsClassifier</label><div class=\"sk-toggleable__content\"><pre>KNeighborsClassifier()</pre></div></div></div><div class=\"sk-serial\"><div class=\"sk-item\"><div class=\"sk-estimator sk-toggleable\"><input class=\"sk-toggleable__control sk-hidden--visually\" id=\"sk-estimator-id-4\" type=\"checkbox\" ><label for=\"sk-estimator-id-4\" class=\"sk-toggleable__label sk-toggleable__label-arrow\">KNeighborsClassifier</label><div class=\"sk-toggleable__content\"><pre>KNeighborsClassifier()</pre></div></div></div></div></div></div></div></div></div></div>"
      ],
      "text/plain": [
       "GridSearchCV(cv=10, estimator=KNeighborsClassifier(),\n",
       "             param_grid={'n_neighbors': array([2, 3, 4, 5, 6, 7, 8])},\n",
       "             verbose=1)"
      ]
     },
     "execution_count": 30,
     "metadata": {},
     "output_type": "execute_result"
    }
   ],
   "source": [
    "from sklearn.model_selection import GridSearchCV\n",
    "param_grid = {'n_neighbors': np.arange(2, 9)}\n",
    "\n",
    "\n",
    "knn2 = KNeighborsClassifier()\n",
    "knn_gscv = GridSearchCV(knn2, \n",
    "                        param_grid, # 2,3,4,5,6,7,8\n",
    "                        cv=10,\n",
    "                        verbose=1)\n",
    "knn_gscv.fit(X_train, y_train)"
   ]
  },
  {
   "cell_type": "code",
   "execution_count": 31,
   "metadata": {
    "id": "DUN2tbe0swIK",
    "outputId": "a7e85863-8e70-4990-8751-22bfaf1b217b",
    "scrolled": false
   },
   "outputs": [
    {
     "data": {
      "text/plain": [
       "{'n_neighbors': 6}"
      ]
     },
     "execution_count": 31,
     "metadata": {},
     "output_type": "execute_result"
    }
   ],
   "source": [
    "#check top performing n_neighbors value\n",
    "knn_gscv.best_params_"
   ]
  },
  {
   "cell_type": "code",
   "execution_count": 32,
   "metadata": {
    "id": "oMBsJFIFswIM",
    "outputId": "a0ac1294-8466-45b3-f63c-8a2df6ae0c5e",
    "scrolled": true
   },
   "outputs": [
    {
     "data": {
      "text/plain": [
       "0.8857142857142856"
      ]
     },
     "execution_count": 32,
     "metadata": {},
     "output_type": "execute_result"
    }
   ],
   "source": [
    "knn_gscv.best_score_"
   ]
  },
  {
   "cell_type": "markdown",
   "metadata": {
    "id": "hkEoCNjmswIN"
   },
   "source": [
    "# Finish"
   ]
  }
 ],
 "metadata": {
  "colab": {
   "provenance": []
  },
  "kernelspec": {
   "display_name": "Python 3 (ipykernel)",
   "language": "python",
   "name": "python3"
  },
  "language_info": {
   "codemirror_mode": {
    "name": "ipython",
    "version": 3
   },
   "file_extension": ".py",
   "mimetype": "text/x-python",
   "name": "python",
   "nbconvert_exporter": "python",
   "pygments_lexer": "ipython3",
   "version": "3.9.7"
  }
 },
 "nbformat": 4,
 "nbformat_minor": 1
}
