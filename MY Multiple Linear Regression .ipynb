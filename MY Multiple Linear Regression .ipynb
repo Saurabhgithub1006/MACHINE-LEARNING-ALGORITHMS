{
 "cells": [
  {
   "cell_type": "code",
   "execution_count": 7,
   "id": "eb0104f5",
   "metadata": {},
   "outputs": [],
   "source": [
    "import pandas as pd\n",
    "import numpy as np\n",
    "import matplotlib.pyplot as plt\n",
    "import seaborn as sns\n",
    "\n",
    "import statsmodels\n",
    "from statsmodels.stats.anova import anova_lm\n",
    "from statsmodels.stats.outliers_influence import variance_inflation_factor\n",
    "\n"
   ]
  },
  {
   "cell_type": "markdown",
   "id": "8330a304",
   "metadata": {},
   "source": [
    "## DATA IMPORT"
   ]
  },
  {
   "cell_type": "code",
   "execution_count": 8,
   "id": "8b1dd114",
   "metadata": {},
   "outputs": [
    {
     "data": {
      "text/html": [
       "<div>\n",
       "<style scoped>\n",
       "    .dataframe tbody tr th:only-of-type {\n",
       "        vertical-align: middle;\n",
       "    }\n",
       "\n",
       "    .dataframe tbody tr th {\n",
       "        vertical-align: top;\n",
       "    }\n",
       "\n",
       "    .dataframe thead th {\n",
       "        text-align: right;\n",
       "    }\n",
       "</style>\n",
       "<table border=\"1\" class=\"dataframe\">\n",
       "  <thead>\n",
       "    <tr style=\"text-align: right;\">\n",
       "      <th></th>\n",
       "      <th>Weight</th>\n",
       "      <th>Length1</th>\n",
       "      <th>Length2</th>\n",
       "      <th>Length3</th>\n",
       "      <th>Height</th>\n",
       "      <th>Width</th>\n",
       "    </tr>\n",
       "  </thead>\n",
       "  <tbody>\n",
       "    <tr>\n",
       "      <th>0</th>\n",
       "      <td>242.0</td>\n",
       "      <td>23.2</td>\n",
       "      <td>25.4</td>\n",
       "      <td>30.0</td>\n",
       "      <td>11.5200</td>\n",
       "      <td>4.0200</td>\n",
       "    </tr>\n",
       "    <tr>\n",
       "      <th>1</th>\n",
       "      <td>290.0</td>\n",
       "      <td>24.0</td>\n",
       "      <td>26.3</td>\n",
       "      <td>31.2</td>\n",
       "      <td>12.4800</td>\n",
       "      <td>4.3056</td>\n",
       "    </tr>\n",
       "    <tr>\n",
       "      <th>2</th>\n",
       "      <td>340.0</td>\n",
       "      <td>23.9</td>\n",
       "      <td>26.5</td>\n",
       "      <td>31.1</td>\n",
       "      <td>12.3778</td>\n",
       "      <td>4.6961</td>\n",
       "    </tr>\n",
       "    <tr>\n",
       "      <th>3</th>\n",
       "      <td>363.0</td>\n",
       "      <td>26.3</td>\n",
       "      <td>29.0</td>\n",
       "      <td>33.5</td>\n",
       "      <td>12.7300</td>\n",
       "      <td>4.4555</td>\n",
       "    </tr>\n",
       "    <tr>\n",
       "      <th>4</th>\n",
       "      <td>430.0</td>\n",
       "      <td>26.5</td>\n",
       "      <td>29.0</td>\n",
       "      <td>34.0</td>\n",
       "      <td>12.4440</td>\n",
       "      <td>5.1340</td>\n",
       "    </tr>\n",
       "  </tbody>\n",
       "</table>\n",
       "</div>"
      ],
      "text/plain": [
       "   Weight  Length1  Length2  Length3   Height   Width\n",
       "0   242.0     23.2     25.4     30.0  11.5200  4.0200\n",
       "1   290.0     24.0     26.3     31.2  12.4800  4.3056\n",
       "2   340.0     23.9     26.5     31.1  12.3778  4.6961\n",
       "3   363.0     26.3     29.0     33.5  12.7300  4.4555\n",
       "4   430.0     26.5     29.0     34.0  12.4440  5.1340"
      ]
     },
     "execution_count": 8,
     "metadata": {},
     "output_type": "execute_result"
    }
   ],
   "source": [
    "myfile= pd.read_csv(r\"C:\\Users\\Owner\\Downloads\\weight_csv.csv\")\n",
    "myfile.head()"
   ]
  },
  {
   "cell_type": "code",
   "execution_count": 9,
   "id": "a3dcf8e1",
   "metadata": {},
   "outputs": [
    {
     "data": {
      "text/plain": [
       "(159, 6)"
      ]
     },
     "execution_count": 9,
     "metadata": {},
     "output_type": "execute_result"
    }
   ],
   "source": [
    "myfile.shape"
   ]
  },
  {
   "cell_type": "code",
   "execution_count": 10,
   "id": "2fdaa020",
   "metadata": {},
   "outputs": [
    {
     "name": "stdout",
     "output_type": "stream",
     "text": [
      "<class 'pandas.core.frame.DataFrame'>\n",
      "RangeIndex: 159 entries, 0 to 158\n",
      "Data columns (total 6 columns):\n",
      " #   Column   Non-Null Count  Dtype  \n",
      "---  ------   --------------  -----  \n",
      " 0   Weight   159 non-null    float64\n",
      " 1   Length1  159 non-null    float64\n",
      " 2   Length2  159 non-null    float64\n",
      " 3   Length3  159 non-null    float64\n",
      " 4   Height   159 non-null    float64\n",
      " 5   Width    159 non-null    float64\n",
      "dtypes: float64(6)\n",
      "memory usage: 7.6 KB\n"
     ]
    }
   ],
   "source": [
    "myfile.info()\n"
   ]
  },
  {
   "cell_type": "code",
   "execution_count": 11,
   "id": "b8ac99fb",
   "metadata": {},
   "outputs": [
    {
     "data": {
      "text/html": [
       "<div>\n",
       "<style scoped>\n",
       "    .dataframe tbody tr th:only-of-type {\n",
       "        vertical-align: middle;\n",
       "    }\n",
       "\n",
       "    .dataframe tbody tr th {\n",
       "        vertical-align: top;\n",
       "    }\n",
       "\n",
       "    .dataframe thead th {\n",
       "        text-align: right;\n",
       "    }\n",
       "</style>\n",
       "<table border=\"1\" class=\"dataframe\">\n",
       "  <thead>\n",
       "    <tr style=\"text-align: right;\">\n",
       "      <th></th>\n",
       "      <th>Weight</th>\n",
       "      <th>Length1</th>\n",
       "      <th>Length2</th>\n",
       "      <th>Length3</th>\n",
       "      <th>Height</th>\n",
       "      <th>Width</th>\n",
       "    </tr>\n",
       "  </thead>\n",
       "  <tbody>\n",
       "    <tr>\n",
       "      <th>count</th>\n",
       "      <td>159.000000</td>\n",
       "      <td>159.000000</td>\n",
       "      <td>159.000000</td>\n",
       "      <td>159.000000</td>\n",
       "      <td>159.000000</td>\n",
       "      <td>159.000000</td>\n",
       "    </tr>\n",
       "    <tr>\n",
       "      <th>mean</th>\n",
       "      <td>398.326415</td>\n",
       "      <td>26.247170</td>\n",
       "      <td>28.415723</td>\n",
       "      <td>31.227044</td>\n",
       "      <td>8.970994</td>\n",
       "      <td>4.417486</td>\n",
       "    </tr>\n",
       "    <tr>\n",
       "      <th>std</th>\n",
       "      <td>357.978317</td>\n",
       "      <td>9.996441</td>\n",
       "      <td>10.716328</td>\n",
       "      <td>11.610246</td>\n",
       "      <td>4.286208</td>\n",
       "      <td>1.685804</td>\n",
       "    </tr>\n",
       "    <tr>\n",
       "      <th>min</th>\n",
       "      <td>0.000000</td>\n",
       "      <td>7.500000</td>\n",
       "      <td>8.400000</td>\n",
       "      <td>8.800000</td>\n",
       "      <td>1.728400</td>\n",
       "      <td>1.047600</td>\n",
       "    </tr>\n",
       "    <tr>\n",
       "      <th>25%</th>\n",
       "      <td>120.000000</td>\n",
       "      <td>19.050000</td>\n",
       "      <td>21.000000</td>\n",
       "      <td>23.150000</td>\n",
       "      <td>5.944800</td>\n",
       "      <td>3.385650</td>\n",
       "    </tr>\n",
       "    <tr>\n",
       "      <th>50%</th>\n",
       "      <td>273.000000</td>\n",
       "      <td>25.200000</td>\n",
       "      <td>27.300000</td>\n",
       "      <td>29.400000</td>\n",
       "      <td>7.786000</td>\n",
       "      <td>4.248500</td>\n",
       "    </tr>\n",
       "    <tr>\n",
       "      <th>75%</th>\n",
       "      <td>650.000000</td>\n",
       "      <td>32.700000</td>\n",
       "      <td>35.500000</td>\n",
       "      <td>39.650000</td>\n",
       "      <td>12.365900</td>\n",
       "      <td>5.584500</td>\n",
       "    </tr>\n",
       "    <tr>\n",
       "      <th>max</th>\n",
       "      <td>1650.000000</td>\n",
       "      <td>59.000000</td>\n",
       "      <td>63.400000</td>\n",
       "      <td>68.000000</td>\n",
       "      <td>18.957000</td>\n",
       "      <td>8.142000</td>\n",
       "    </tr>\n",
       "  </tbody>\n",
       "</table>\n",
       "</div>"
      ],
      "text/plain": [
       "            Weight     Length1     Length2     Length3      Height       Width\n",
       "count   159.000000  159.000000  159.000000  159.000000  159.000000  159.000000\n",
       "mean    398.326415   26.247170   28.415723   31.227044    8.970994    4.417486\n",
       "std     357.978317    9.996441   10.716328   11.610246    4.286208    1.685804\n",
       "min       0.000000    7.500000    8.400000    8.800000    1.728400    1.047600\n",
       "25%     120.000000   19.050000   21.000000   23.150000    5.944800    3.385650\n",
       "50%     273.000000   25.200000   27.300000   29.400000    7.786000    4.248500\n",
       "75%     650.000000   32.700000   35.500000   39.650000   12.365900    5.584500\n",
       "max    1650.000000   59.000000   63.400000   68.000000   18.957000    8.142000"
      ]
     },
     "execution_count": 11,
     "metadata": {},
     "output_type": "execute_result"
    }
   ],
   "source": [
    "myfile.describe()"
   ]
  },
  {
   "cell_type": "markdown",
   "id": "d089555c",
   "metadata": {},
   "source": [
    "## EDA"
   ]
  },
  {
   "cell_type": "code",
   "execution_count": 12,
   "id": "92c8f9f2",
   "metadata": {},
   "outputs": [
    {
     "data": {
      "text/plain": [
       "<AxesSubplot:ylabel='Weight'>"
      ]
     },
     "execution_count": 12,
     "metadata": {},
     "output_type": "execute_result"
    },
    {
     "data": {
      "image/png": "[encoded data removed]",
      "text/plain": [
       "<Figure size 432x288 with 1 Axes>"
      ]
     },
     "metadata": {
      "needs_background": "light"
     },
     "output_type": "display_data"
    }
   ],
   "source": [
    "sns.boxplot(y=\"Weight\",data = myfile)"
   ]
  },
  {
   "cell_type": "code",
   "execution_count": 13,
   "id": "e6c650e1",
   "metadata": {},
   "outputs": [
    {
     "data": {
      "text/plain": [
       "<AxesSubplot:ylabel='Length1'>"
      ]
     },
     "execution_count": 13,
     "metadata": {},
     "output_type": "execute_result"
    },
    {
     "data": {
      "image/png": "[encoded data removed]",
      "text/plain": [
       "<Figure size 432x288 with 1 Axes>"
      ]
     },
     "metadata": {
      "needs_background": "light"
     },
     "output_type": "display_data"
    }
   ],
   "source": [
    "sns.boxplot(y=\"Length1\",data =myfile)"
   ]
  },
  {
   "cell_type": "code",
   "execution_count": 14,
   "id": "be9231b4",
   "metadata": {},
   "outputs": [
    {
     "data": {
      "text/plain": [
       "<AxesSubplot:ylabel='Length2'>"
      ]
     },
     "execution_count": 14,
     "metadata": {},
     "output_type": "execute_result"
    },
    {
     "data": {
      "image/png": "[encoded data removed]",
      "text/plain": [
       "<Figure size 432x288 with 1 Axes>"
      ]
     },
     "metadata": {
      "needs_background": "light"
     },
     "output_type": "display_data"
    }
   ],
   "source": [
    "sns.boxplot(y=\"Length2\",data=myfile)"
   ]
  },
  {
   "cell_type": "code",
   "execution_count": 15,
   "id": "2c64c53d",
   "metadata": {},
   "outputs": [
    {
     "data": {
      "text/plain": [
       "<AxesSubplot:ylabel='Length3'>"
      ]
     },
     "execution_count": 15,
     "metadata": {},
     "output_type": "execute_result"
    },
    {
     "data": {
      "image/png": "[encoded data removed]",
      "text/plain": [
       "<Figure size 432x288 with 1 Axes>"
      ]
     },
     "metadata": {
      "needs_background": "light"
     },
     "output_type": "display_data"
    }
   ],
   "source": [
    "sns.boxplot(y=\"Length3\",data=myfile)"
   ]
  },
  {
   "cell_type": "code",
   "execution_count": 16,
   "id": "7106678e",
   "metadata": {},
   "outputs": [
    {
     "data": {
      "text/plain": [
       "<AxesSubplot:ylabel='Height'>"
      ]
     },
     "execution_count": 16,
     "metadata": {},
     "output_type": "execute_result"
    },
    {
     "data": {
      "image/png": "[encoded data removed]",
      "text/plain": [
       "<Figure size 432x288 with 1 Axes>"
      ]
     },
     "metadata": {
      "needs_background": "light"
     },
     "output_type": "display_data"
    }
   ],
   "source": [
    "sns.boxplot(y=\"Height\",data=myfile)"
   ]
  },
  {
   "cell_type": "code",
   "execution_count": 17,
   "id": "0b17b3a3",
   "metadata": {},
   "outputs": [
    {
     "data": {
      "text/plain": [
       "<AxesSubplot:ylabel='Width'>"
      ]
     },
     "execution_count": 17,
     "metadata": {},
     "output_type": "execute_result"
    },
    {
     "data": {
      "image/png": "[encoded data removed]",
      "text/plain": [
       "<Figure size 432x288 with 1 Axes>"
      ]
     },
     "metadata": {
      "needs_background": "light"
     },
     "output_type": "display_data"
    }
   ],
   "source": [
    "sns.boxplot(y=\"Width\",data=myfile)"
   ]
  },
  {
   "cell_type": "markdown",
   "id": "8694bd8f",
   "metadata": {},
   "source": [
    "### Fixing outliers\n",
    "###### for weight"
   ]
  },
  {
   "cell_type": "code",
   "execution_count": 18,
   "id": "1555407a",
   "metadata": {},
   "outputs": [],
   "source": [
    "q3 = myfile[\"Weight\"].quantile(0.75)\n",
    "q1=myfile.Weight.quantile(0.25)\n",
    "IQR =q3-q1\n",
    "lower = q1-1.5*IQR\n",
    "upper =q3+1.5*IQR\n",
    "\n"
   ]
  },
  {
   "cell_type": "code",
   "execution_count": 19,
   "id": "14f9c036",
   "metadata": {},
   "outputs": [],
   "source": [
    "myfile[\"Weight\"]=np.where(myfile[\"Weight\"]>upper,upper,myfile[\"Weight\"])"
   ]
  },
  {
   "cell_type": "code",
   "execution_count": 20,
   "id": "f76c9aab",
   "metadata": {},
   "outputs": [
    {
     "data": {
      "text/plain": [
       "<AxesSubplot:ylabel='Weight'>"
      ]
     },
     "execution_count": 20,
     "metadata": {},
     "output_type": "execute_result"
    },
    {
     "data": {
      "image/png": "[encoded data removed]",
      "text/plain": [
       "<Figure size 432x288 with 1 Axes>"
      ]
     },
     "metadata": {
      "needs_background": "light"
     },
     "output_type": "display_data"
    }
   ],
   "source": [
    "sns.boxplot(y=\"Weight\",data=myfile)"
   ]
  },
  {
   "cell_type": "markdown",
   "id": "bdb3cedb",
   "metadata": {},
   "source": [
    "###### FOR length 1,2,3"
   ]
  },
  {
   "cell_type": "code",
   "execution_count": 21,
   "id": "7009767e",
   "metadata": {},
   "outputs": [],
   "source": [
    "l1q3=myfile[\"Length1\"].quantile(0.75)\n",
    "l1q1 = myfile[\"Length1\"].quantile(0.25)\n",
    "l2q3=myfile[\"Length2\"].quantile(0.75)\n",
    "l2q1=myfile[\"Length2\"].quantile(0.25)\n",
    "l3q3=myfile[\"Length3\"].quantile(0.75)\n",
    "l3q1=myfile[\"Length3\"].quantile(0.25)\n",
    "\n",
    "l1IQR = l1q3-l1q1\n",
    "l2IQR=l2q3-l2q1\n",
    "l3IQR=l3q3-l3q1\n",
    "\n",
    "l1upper = l1q3+1.5*l1IQR\n",
    "l2upper=l2q3+1.5*l2IQR\n",
    "l3upper=l3q3+1.5*l3IQR"
   ]
  },
  {
   "cell_type": "code",
   "execution_count": 22,
   "id": "4ab32aac",
   "metadata": {},
   "outputs": [],
   "source": [
    "myfile[\"Length1\"] =np.where(myfile[\"Length1\"]>l1upper,l1upper,myfile[\"Length1\"])\n",
    "myfile[\"Length2\"] =np.where(myfile[\"Length2\"]>l2upper,l2upper,myfile[\"Length2\"])\n",
    "myfile[\"Length3\"] =np.where(myfile[\"Length3\"]>l3upper,l3upper,myfile[\"Length3\"])"
   ]
  },
  {
   "cell_type": "code",
   "execution_count": 23,
   "id": "1cddee24",
   "metadata": {},
   "outputs": [
    {
     "data": {
      "text/plain": [
       "<AxesSubplot:ylabel='Length1'>"
      ]
     },
     "execution_count": 23,
     "metadata": {},
     "output_type": "execute_result"
    },
    {
     "data": {
      "image/png": "[encoded data removed]",
      "text/plain": [
       "<Figure size 432x288 with 1 Axes>"
      ]
     },
     "metadata": {
      "needs_background": "light"
     },
     "output_type": "display_data"
    }
   ],
   "source": [
    "sns.boxplot(y=\"Length1\",data=myfile)"
   ]
  },
  {
   "cell_type": "code",
   "execution_count": 24,
   "id": "fe874657",
   "metadata": {},
   "outputs": [
    {
     "data": {
      "text/plain": [
       "<AxesSubplot:ylabel='Length2'>"
      ]
     },
     "execution_count": 24,
     "metadata": {},
     "output_type": "execute_result"
    },
    {
     "data": {
      "image/png": "[encoded data removed]",
      "text/plain": [
       "<Figure size 432x288 with 1 Axes>"
      ]
     },
     "metadata": {
      "needs_background": "light"
     },
     "output_type": "display_data"
    }
   ],
   "source": [
    "sns.boxplot(y=\"Length2\",data=myfile)"
   ]
  },
  {
   "cell_type": "code",
   "execution_count": 25,
   "id": "31806d38",
   "metadata": {},
   "outputs": [
    {
     "data": {
      "text/plain": [
       "<AxesSubplot:ylabel='Length3'>"
      ]
     },
     "execution_count": 25,
     "metadata": {},
     "output_type": "execute_result"
    },
    {
     "data": {
      "image/png": "[encoded data removed]",
      "text/plain": [
       "<Figure size 432x288 with 1 Axes>"
      ]
     },
     "metadata": {
      "needs_background": "light"
     },
     "output_type": "display_data"
    }
   ],
   "source": [
    "sns.boxplot(y=\"Length3\",data=myfile)"
   ]
  },
  {
   "cell_type": "code",
   "execution_count": 26,
   "id": "62375c8e",
   "metadata": {},
   "outputs": [
    {
     "data": {
      "text/plain": [
       "Weight     0\n",
       "Length1    0\n",
       "Length2    0\n",
       "Length3    0\n",
       "Height     0\n",
       "Width      0\n",
       "dtype: int64"
      ]
     },
     "execution_count": 26,
     "metadata": {},
     "output_type": "execute_result"
    }
   ],
   "source": [
    "myfile.isnull().sum()\n"
   ]
  },
  {
   "cell_type": "code",
   "execution_count": null,
   "id": "1263817d",
   "metadata": {},
   "outputs": [],
   "source": []
  },
  {
   "cell_type": "code",
   "execution_count": null,
   "id": "6373a2e2",
   "metadata": {},
   "outputs": [],
   "source": [
    " "
   ]
  },
  {
   "cell_type": "code",
   "execution_count": null,
   "id": "61098b82",
   "metadata": {},
   "outputs": [],
   "source": [
    " "
   ]
  },
  {
   "cell_type": "code",
   "execution_count": null,
   "id": "46200984",
   "metadata": {},
   "outputs": [],
   "source": [
    " "
   ]
  },
  {
   "cell_type": "markdown",
   "id": "bc8d0902",
   "metadata": {},
   "source": [
    "## SPLITTING DATA IN TRAIN AND TEST\n",
    "\n",
    "##### using sklearn we split 70% data in train and rest in test set.\n",
    "##### using random state  will give the same training and test set every time on running the code."
   ]
  },
  {
   "cell_type": "code",
   "execution_count": 27,
   "id": "cfd8ac38",
   "metadata": {},
   "outputs": [
    {
     "data": {
      "text/html": [
       "<div>\n",
       "<style scoped>\n",
       "    .dataframe tbody tr th:only-of-type {\n",
       "        vertical-align: middle;\n",
       "    }\n",
       "\n",
       "    .dataframe tbody tr th {\n",
       "        vertical-align: top;\n",
       "    }\n",
       "\n",
       "    .dataframe thead th {\n",
       "        text-align: right;\n",
       "    }\n",
       "</style>\n",
       "<table border=\"1\" class=\"dataframe\">\n",
       "  <thead>\n",
       "    <tr style=\"text-align: right;\">\n",
       "      <th></th>\n",
       "      <th>Weight</th>\n",
       "      <th>Length1</th>\n",
       "      <th>Length2</th>\n",
       "      <th>Length3</th>\n",
       "      <th>Height</th>\n",
       "      <th>Width</th>\n",
       "    </tr>\n",
       "  </thead>\n",
       "  <tbody>\n",
       "    <tr>\n",
       "      <th>0</th>\n",
       "      <td>242.0</td>\n",
       "      <td>23.2</td>\n",
       "      <td>25.4</td>\n",
       "      <td>30.0</td>\n",
       "      <td>11.5200</td>\n",
       "      <td>4.0200</td>\n",
       "    </tr>\n",
       "    <tr>\n",
       "      <th>1</th>\n",
       "      <td>290.0</td>\n",
       "      <td>24.0</td>\n",
       "      <td>26.3</td>\n",
       "      <td>31.2</td>\n",
       "      <td>12.4800</td>\n",
       "      <td>4.3056</td>\n",
       "    </tr>\n",
       "    <tr>\n",
       "      <th>2</th>\n",
       "      <td>340.0</td>\n",
       "      <td>23.9</td>\n",
       "      <td>26.5</td>\n",
       "      <td>31.1</td>\n",
       "      <td>12.3778</td>\n",
       "      <td>4.6961</td>\n",
       "    </tr>\n",
       "    <tr>\n",
       "      <th>3</th>\n",
       "      <td>363.0</td>\n",
       "      <td>26.3</td>\n",
       "      <td>29.0</td>\n",
       "      <td>33.5</td>\n",
       "      <td>12.7300</td>\n",
       "      <td>4.4555</td>\n",
       "    </tr>\n",
       "    <tr>\n",
       "      <th>4</th>\n",
       "      <td>430.0</td>\n",
       "      <td>26.5</td>\n",
       "      <td>29.0</td>\n",
       "      <td>34.0</td>\n",
       "      <td>12.4440</td>\n",
       "      <td>5.1340</td>\n",
       "    </tr>\n",
       "  </tbody>\n",
       "</table>\n",
       "</div>"
      ],
      "text/plain": [
       "   Weight  Length1  Length2  Length3   Height   Width\n",
       "0   242.0     23.2     25.4     30.0  11.5200  4.0200\n",
       "1   290.0     24.0     26.3     31.2  12.4800  4.3056\n",
       "2   340.0     23.9     26.5     31.1  12.3778  4.6961\n",
       "3   363.0     26.3     29.0     33.5  12.7300  4.4555\n",
       "4   430.0     26.5     29.0     34.0  12.4440  5.1340"
      ]
     },
     "execution_count": 27,
     "metadata": {},
     "output_type": "execute_result"
    }
   ],
   "source": [
    "myfile.head()"
   ]
  },
  {
   "cell_type": "code",
   "execution_count": 28,
   "id": "267864e6",
   "metadata": {},
   "outputs": [],
   "source": [
    "X = myfile.drop(\"Weight\",axis=1)\n",
    "y = myfile[[\"Weight\"]]\n",
    "\n",
    "from sklearn.model_selection import train_test_split\n",
    "\n",
    "X_train,X_test,y_train,y_test = train_test_split(X,y,train_size=0.7,random_state = 120)"
   ]
  },
  {
   "cell_type": "code",
   "execution_count": 29,
   "id": "509d206e",
   "metadata": {},
   "outputs": [
    {
     "data": {
      "text/html": [
       "<div>\n",
       "<style scoped>\n",
       "    .dataframe tbody tr th:only-of-type {\n",
       "        vertical-align: middle;\n",
       "    }\n",
       "\n",
       "    .dataframe tbody tr th {\n",
       "        vertical-align: top;\n",
       "    }\n",
       "\n",
       "    .dataframe thead th {\n",
       "        text-align: right;\n",
       "    }\n",
       "</style>\n",
       "<table border=\"1\" class=\"dataframe\">\n",
       "  <thead>\n",
       "    <tr style=\"text-align: right;\">\n",
       "      <th></th>\n",
       "      <th>Length1</th>\n",
       "      <th>Length2</th>\n",
       "      <th>Length3</th>\n",
       "      <th>Height</th>\n",
       "      <th>Width</th>\n",
       "      <th>Weight</th>\n",
       "    </tr>\n",
       "  </thead>\n",
       "  <tbody>\n",
       "    <tr>\n",
       "      <th>3</th>\n",
       "      <td>26.3</td>\n",
       "      <td>29.0</td>\n",
       "      <td>33.5</td>\n",
       "      <td>12.7300</td>\n",
       "      <td>4.4555</td>\n",
       "      <td>363.0</td>\n",
       "    </tr>\n",
       "    <tr>\n",
       "      <th>113</th>\n",
       "      <td>34.0</td>\n",
       "      <td>36.0</td>\n",
       "      <td>38.3</td>\n",
       "      <td>10.6091</td>\n",
       "      <td>6.7408</td>\n",
       "      <td>700.0</td>\n",
       "    </tr>\n",
       "    <tr>\n",
       "      <th>85</th>\n",
       "      <td>19.3</td>\n",
       "      <td>21.3</td>\n",
       "      <td>22.8</td>\n",
       "      <td>6.3840</td>\n",
       "      <td>3.5340</td>\n",
       "      <td>130.0</td>\n",
       "    </tr>\n",
       "    <tr>\n",
       "      <th>155</th>\n",
       "      <td>11.7</td>\n",
       "      <td>12.4</td>\n",
       "      <td>13.5</td>\n",
       "      <td>2.4300</td>\n",
       "      <td>1.2690</td>\n",
       "      <td>13.4</td>\n",
       "    </tr>\n",
       "    <tr>\n",
       "      <th>76</th>\n",
       "      <td>15.7</td>\n",
       "      <td>17.4</td>\n",
       "      <td>18.5</td>\n",
       "      <td>4.5880</td>\n",
       "      <td>2.9415</td>\n",
       "      <td>70.0</td>\n",
       "    </tr>\n",
       "  </tbody>\n",
       "</table>\n",
       "</div>"
      ],
      "text/plain": [
       "     Length1  Length2  Length3   Height   Width  Weight\n",
       "3       26.3     29.0     33.5  12.7300  4.4555   363.0\n",
       "113     34.0     36.0     38.3  10.6091  6.7408   700.0\n",
       "85      19.3     21.3     22.8   6.3840  3.5340   130.0\n",
       "155     11.7     12.4     13.5   2.4300  1.2690    13.4\n",
       "76      15.7     17.4     18.5   4.5880  2.9415    70.0"
      ]
     },
     "execution_count": 29,
     "metadata": {},
     "output_type": "execute_result"
    }
   ],
   "source": [
    "file= pd.concat([X_train,y_train],axis=1)\n",
    "file.head()"
   ]
  },
  {
   "cell_type": "markdown",
   "id": "f23ac760",
   "metadata": {},
   "source": [
    "## CORRELATION"
   ]
  },
  {
   "cell_type": "markdown",
   "id": "f19fd92b",
   "metadata": {},
   "source": [
    "###### correlation matrix"
   ]
  },
  {
   "cell_type": "code",
   "execution_count": 30,
   "id": "e47ac103",
   "metadata": {},
   "outputs": [
    {
     "data": {
      "text/html": [
       "<div>\n",
       "<style scoped>\n",
       "    .dataframe tbody tr th:only-of-type {\n",
       "        vertical-align: middle;\n",
       "    }\n",
       "\n",
       "    .dataframe tbody tr th {\n",
       "        vertical-align: top;\n",
       "    }\n",
       "\n",
       "    .dataframe thead th {\n",
       "        text-align: right;\n",
       "    }\n",
       "</style>\n",
       "<table border=\"1\" class=\"dataframe\">\n",
       "  <thead>\n",
       "    <tr style=\"text-align: right;\">\n",
       "      <th></th>\n",
       "      <th>Length1</th>\n",
       "      <th>Length2</th>\n",
       "      <th>Length3</th>\n",
       "      <th>Height</th>\n",
       "      <th>Width</th>\n",
       "      <th>Weight</th>\n",
       "    </tr>\n",
       "  </thead>\n",
       "  <tbody>\n",
       "    <tr>\n",
       "      <th>Length1</th>\n",
       "      <td>1.000000</td>\n",
       "      <td>0.999499</td>\n",
       "      <td>0.992873</td>\n",
       "      <td>0.645435</td>\n",
       "      <td>0.870861</td>\n",
       "      <td>0.908177</td>\n",
       "    </tr>\n",
       "    <tr>\n",
       "      <th>Length2</th>\n",
       "      <td>0.999499</td>\n",
       "      <td>1.000000</td>\n",
       "      <td>0.994657</td>\n",
       "      <td>0.659073</td>\n",
       "      <td>0.876785</td>\n",
       "      <td>0.910381</td>\n",
       "    </tr>\n",
       "    <tr>\n",
       "      <th>Length3</th>\n",
       "      <td>0.992873</td>\n",
       "      <td>0.994657</td>\n",
       "      <td>1.000000</td>\n",
       "      <td>0.708358</td>\n",
       "      <td>0.875092</td>\n",
       "      <td>0.917800</td>\n",
       "    </tr>\n",
       "    <tr>\n",
       "      <th>Height</th>\n",
       "      <td>0.645435</td>\n",
       "      <td>0.659073</td>\n",
       "      <td>0.708358</td>\n",
       "      <td>1.000000</td>\n",
       "      <td>0.801379</td>\n",
       "      <td>0.725061</td>\n",
       "    </tr>\n",
       "    <tr>\n",
       "      <th>Width</th>\n",
       "      <td>0.870861</td>\n",
       "      <td>0.876785</td>\n",
       "      <td>0.875092</td>\n",
       "      <td>0.801379</td>\n",
       "      <td>1.000000</td>\n",
       "      <td>0.883249</td>\n",
       "    </tr>\n",
       "    <tr>\n",
       "      <th>Weight</th>\n",
       "      <td>0.908177</td>\n",
       "      <td>0.910381</td>\n",
       "      <td>0.917800</td>\n",
       "      <td>0.725061</td>\n",
       "      <td>0.883249</td>\n",
       "      <td>1.000000</td>\n",
       "    </tr>\n",
       "  </tbody>\n",
       "</table>\n",
       "</div>"
      ],
      "text/plain": [
       "          Length1   Length2   Length3    Height     Width    Weight\n",
       "Length1  1.000000  0.999499  0.992873  0.645435  0.870861  0.908177\n",
       "Length2  0.999499  1.000000  0.994657  0.659073  0.876785  0.910381\n",
       "Length3  0.992873  0.994657  1.000000  0.708358  0.875092  0.917800\n",
       "Height   0.645435  0.659073  0.708358  1.000000  0.801379  0.725061\n",
       "Width    0.870861  0.876785  0.875092  0.801379  1.000000  0.883249\n",
       "Weight   0.908177  0.910381  0.917800  0.725061  0.883249  1.000000"
      ]
     },
     "execution_count": 30,
     "metadata": {},
     "output_type": "execute_result"
    }
   ],
   "source": [
    "file.corr()"
   ]
  },
  {
   "cell_type": "code",
   "execution_count": 31,
   "id": "0f5a384f",
   "metadata": {},
   "outputs": [
    {
     "data": {
      "text/plain": [
       "<AxesSubplot:>"
      ]
     },
     "execution_count": 31,
     "metadata": {},
     "output_type": "execute_result"
    },
    {
     "data": {
      "image/png": "[encoded data removed]",
      "text/plain": [
       "<Figure size 432x288 with 2 Axes>"
      ]
     },
     "metadata": {
      "needs_background": "light"
     },
     "output_type": "display_data"
    }
   ],
   "source": [
    "sns.heatmap(file.corr(),annot=True)"
   ]
  },
  {
   "cell_type": "code",
   "execution_count": 32,
   "id": "b15eea4c",
   "metadata": {},
   "outputs": [
    {
     "data": {
      "text/plain": [
       "<AxesSubplot:xlabel='Length3', ylabel='Weight'>"
      ]
     },
     "execution_count": 32,
     "metadata": {},
     "output_type": "execute_result"
    },
    {
     "data": {
      "image/png": "[encoded data removed]",
      "text/plain": [
       "<Figure size 432x288 with 1 Axes>"
      ]
     },
     "metadata": {
      "needs_background": "light"
     },
     "output_type": "display_data"
    }
   ],
   "source": [
    "sns.scatterplot(x=\"Length3\",y=\"Weight\",data=file )\n",
    " "
   ]
  },
  {
   "cell_type": "code",
   "execution_count": 33,
   "id": "f47cd3a6",
   "metadata": {},
   "outputs": [
    {
     "data": {
      "text/plain": [
       "<AxesSubplot:xlabel='Length2', ylabel='Weight'>"
      ]
     },
     "execution_count": 33,
     "metadata": {},
     "output_type": "execute_result"
    },
    {
     "data": {
      "image/png": "[encoded data removed]",
      "text/plain": [
       "<Figure size 432x288 with 1 Axes>"
      ]
     },
     "metadata": {
      "needs_background": "light"
     },
     "output_type": "display_data"
    }
   ],
   "source": [
    "sns.scatterplot(x=\"Length2\",y=\"Weight\",data=file )\n"
   ]
  },
  {
   "cell_type": "markdown",
   "id": "4ad2de49",
   "metadata": {},
   "source": [
    "#### Length3 have  92% correlation with Weight of fish.\n",
    "#### so, Length3 have high impact on weight."
   ]
  },
  {
   "cell_type": "markdown",
   "id": "1c567614",
   "metadata": {},
   "source": [
    "## Multicolinearity with VIF"
   ]
  },
  {
   "cell_type": "code",
   "execution_count": 34,
   "id": "a755fd87",
   "metadata": {},
   "outputs": [
    {
     "data": {
      "text/plain": [
       "Length1    11053.803994\n",
       "Length2    14067.147068\n",
       "Length3     2213.639114\n",
       "Height        47.526806\n",
       "Width         84.824206\n",
       "dtype: float64"
      ]
     },
     "execution_count": 34,
     "metadata": {},
     "output_type": "execute_result"
    }
   ],
   "source": [
    "X1=file.drop([\"Weight\"],axis=1)\n",
    " \n",
    "series= pd.Series([variance_inflation_factor(X1.values, i)\n",
    "                   for i in range(X1.shape[1])],\n",
    "                  index=X1.columns)\n",
    "series"
   ]
  },
  {
   "cell_type": "code",
   "execution_count": null,
   "id": "690248b5",
   "metadata": {},
   "outputs": [],
   "source": []
  },
  {
   "cell_type": "code",
   "execution_count": null,
   "id": "f834d543",
   "metadata": {},
   "outputs": [],
   "source": [
    " variance_inflation_factor(X1.values,2)\n",
    "    "
   ]
  },
  {
   "cell_type": "markdown",
   "id": "7048ab5f",
   "metadata": {},
   "source": [
    " series.remove(\"Length2\")"
   ]
  },
  {
   "cell_type": "code",
   "execution_count": 44,
   "id": "f2f9ce39",
   "metadata": {},
   "outputs": [
    {
     "data": {
      "text/plain": [
       "Length1    1804.065616\n",
       "Length3    1814.503607\n",
       "Height       47.268405\n",
       "Width        75.882909\n",
       "dtype: float64"
      ]
     },
     "execution_count": 44,
     "metadata": {},
     "output_type": "execute_result"
    }
   ],
   "source": [
    "X1=file.drop([\"Weight\",\"Length2\"],axis=1)\n",
    "\n",
    "series= pd.Series([variance_inflation_factor(X1.values, i)\n",
    "                   for i in range(X1.shape[1])],\n",
    "                  index=X1.columns)\n",
    "series"
   ]
  },
  {
   "cell_type": "code",
   "execution_count": 45,
   "id": "a6b2d10c",
   "metadata": {},
   "outputs": [
    {
     "data": {
      "text/plain": [
       "Length1    30.396138\n",
       "Height     14.821382\n",
       "Width      50.914244\n",
       "dtype: float64"
      ]
     },
     "execution_count": 45,
     "metadata": {},
     "output_type": "execute_result"
    }
   ],
   "source": [
    "X1=file.drop([\"Weight\",\"Length2\",\"Length3\" ],axis=1)\n",
    "\n",
    "series= pd.Series([variance_inflation_factor(X1.values, i)\n",
    "                   for i in range(X1.shape[1])],\n",
    "                  index=X1.columns)\n",
    "series"
   ]
  },
  {
   "cell_type": "code",
   "execution_count": 46,
   "id": "6e741bba",
   "metadata": {},
   "outputs": [
    {
     "data": {
      "text/plain": [
       "Length1    8.599281\n",
       "Height     8.599281\n",
       "dtype: float64"
      ]
     },
     "execution_count": 46,
     "metadata": {},
     "output_type": "execute_result"
    }
   ],
   "source": [
    "X1=file.drop([\"Weight\",\"Length2\",\"Length3\",\"Width\" ],axis=1)\n",
    "\n",
    "series= pd.Series([variance_inflation_factor(X1.values, i)\n",
    "                   for i in range(X1.shape[1])],\n",
    "                  index=X1.columns)\n",
    "series"
   ]
  },
  {
   "cell_type": "markdown",
   "id": "54ea9cb8",
   "metadata": {},
   "source": [
    "#### No collinearity indicates no multicollinearity."
   ]
  },
  {
   "cell_type": "markdown",
   "id": "0ec8c9bf",
   "metadata": {},
   "source": [
    "## Model Building\n",
    "* H0 = There is no linear relationship between       Length1, Height  and Weight .\n",
    "* H1 = Ther is linear relationship between Length1,Height and Weight ."
   ]
  },
  {
   "cell_type": "code",
   "execution_count": 47,
   "id": "14a6fb68",
   "metadata": {},
   "outputs": [
    {
     "data": {
      "text/html": [
       "<table class=\"simpletable\">\n",
       "<caption>OLS Regression Results</caption>\n",
       "<tr>\n",
       "  <th>Dep. Variable:</th>         <td>Weight</td>      <th>  R-squared:         </th> <td>   0.858</td>\n",
       "</tr>\n",
       "<tr>\n",
       "  <th>Model:</th>                   <td>OLS</td>       <th>  Adj. R-squared:    </th> <td>   0.855</td>\n",
       "</tr>\n",
       "<tr>\n",
       "  <th>Method:</th>             <td>Least Squares</td>  <th>  F-statistic:       </th> <td>   325.9</td>\n",
       "</tr>\n",
       "<tr>\n",
       "  <th>Date:</th>             <td>Fri, 02 Dec 2022</td> <th>  Prob (F-statistic):</th> <td>1.77e-46</td>\n",
       "</tr>\n",
       "<tr>\n",
       "  <th>Time:</th>                 <td>20:17:25</td>     <th>  Log-Likelihood:    </th> <td> -695.92</td>\n",
       "</tr>\n",
       "<tr>\n",
       "  <th>No. Observations:</th>      <td>   111</td>      <th>  AIC:               </th> <td>   1398.</td>\n",
       "</tr>\n",
       "<tr>\n",
       "  <th>Df Residuals:</th>          <td>   108</td>      <th>  BIC:               </th> <td>   1406.</td>\n",
       "</tr>\n",
       "<tr>\n",
       "  <th>Df Model:</th>              <td>     2</td>      <th>                     </th>     <td> </td>   \n",
       "</tr>\n",
       "<tr>\n",
       "  <th>Covariance Type:</th>      <td>nonrobust</td>    <th>                     </th>     <td> </td>   \n",
       "</tr>\n",
       "</table>\n",
       "<table class=\"simpletable\">\n",
       "<tr>\n",
       "      <td></td>         <th>coef</th>     <th>std err</th>      <th>t</th>      <th>P>|t|</th>  <th>[0.025</th>    <th>0.975]</th>  \n",
       "</tr>\n",
       "<tr>\n",
       "  <th>Intercept</th> <td> -459.8684</td> <td>   34.854</td> <td>  -13.194</td> <td> 0.000</td> <td> -528.956</td> <td> -390.781</td>\n",
       "</tr>\n",
       "<tr>\n",
       "  <th>Length1</th>   <td>   26.0360</td> <td>    1.639</td> <td>   15.885</td> <td> 0.000</td> <td>   22.787</td> <td>   29.285</td>\n",
       "</tr>\n",
       "<tr>\n",
       "  <th>Height</th>    <td>   19.0743</td> <td>    3.806</td> <td>    5.012</td> <td> 0.000</td> <td>   11.531</td> <td>   26.618</td>\n",
       "</tr>\n",
       "</table>\n",
       "<table class=\"simpletable\">\n",
       "<tr>\n",
       "  <th>Omnibus:</th>       <td> 4.074</td> <th>  Durbin-Watson:     </th> <td>   1.883</td>\n",
       "</tr>\n",
       "<tr>\n",
       "  <th>Prob(Omnibus):</th> <td> 0.130</td> <th>  Jarque-Bera (JB):  </th> <td>   3.524</td>\n",
       "</tr>\n",
       "<tr>\n",
       "  <th>Skew:</th>          <td> 0.419</td> <th>  Prob(JB):          </th> <td>   0.172</td>\n",
       "</tr>\n",
       "<tr>\n",
       "  <th>Kurtosis:</th>      <td> 3.241</td> <th>  Cond. No.          </th> <td>    82.1</td>\n",
       "</tr>\n",
       "</table><br/><br/>Notes:<br/>[1] Standard Errors assume that the covariance matrix of the errors is correctly specified."
      ],
      "text/plain": [
       "<class 'statsmodels.iolib.summary.Summary'>\n",
       "\"\"\"\n",
       "                            OLS Regression Results                            \n",
       "==============================================================================\n",
       "Dep. Variable:                 Weight   R-squared:                       0.858\n",
       "Model:                            OLS   Adj. R-squared:                  0.855\n",
       "Method:                 Least Squares   F-statistic:                     325.9\n",
       "Date:                Fri, 02 Dec 2022   Prob (F-statistic):           1.77e-46\n",
       "Time:                        20:17:25   Log-Likelihood:                -695.92\n",
       "No. Observations:                 111   AIC:                             1398.\n",
       "Df Residuals:                     108   BIC:                             1406.\n",
       "Df Model:                           2                                         \n",
       "Covariance Type:            nonrobust                                         \n",
       "==============================================================================\n",
       "                 coef    std err          t      P>|t|      [0.025      0.975]\n",
       "------------------------------------------------------------------------------\n",
       "Intercept   -459.8684     34.854    -13.194      0.000    -528.956    -390.781\n",
       "Length1       26.0360      1.639     15.885      0.000      22.787      29.285\n",
       "Height        19.0743      3.806      5.012      0.000      11.531      26.618\n",
       "==============================================================================\n",
       "Omnibus:                        4.074   Durbin-Watson:                   1.883\n",
       "Prob(Omnibus):                  0.130   Jarque-Bera (JB):                3.524\n",
       "Skew:                           0.419   Prob(JB):                        0.172\n",
       "Kurtosis:                       3.241   Cond. No.                         82.1\n",
       "==============================================================================\n",
       "\n",
       "Notes:\n",
       "[1] Standard Errors assume that the covariance matrix of the errors is correctly specified.\n",
       "\"\"\""
      ]
     },
     "execution_count": 47,
     "metadata": {},
     "output_type": "execute_result"
    }
   ],
   "source": [
    "import statsmodels.formula.api as smf\n",
    "model =smf.ols(\"Weight ~ Length1+Height\",data =file ).fit()\n",
    "model.summary()"
   ]
  },
  {
   "cell_type": "markdown",
   "id": "17c5d851",
   "metadata": {},
   "source": [
    "* There is linear relationship between Length1 ,Height and Weight.\n",
    "* We reject H0.\n",
    "* The accuracy of model is 86% which is a good fit model.\n",
    "* y = -459.868 + 26**Length1 + 19 **Height."
   ]
  },
  {
   "cell_type": "markdown",
   "id": "926025c7",
   "metadata": {},
   "source": [
    "## MUlticollinearity with VIF"
   ]
  },
  {
   "cell_type": "code",
   "execution_count": null,
   "id": "f9ddc0de",
   "metadata": {},
   "outputs": [],
   "source": [
    "X2 = file.loc[:,[\"Length1\",\"Height\"]]\n",
    "\n",
    "series = pd.Series([variance_inflation_factor(X2.values,i) \n",
    "                    for i in range(X2.shape[1])],\n",
    "                     index = X2.columns)\n",
    "\n"
   ]
  },
  {
   "cell_type": "code",
   "execution_count": null,
   "id": "9d4ac077",
   "metadata": {},
   "outputs": [],
   "source": [
    "series"
   ]
  },
  {
   "cell_type": "markdown",
   "id": "330f3f45",
   "metadata": {},
   "source": [
    "## Assumptions of model\n",
    "\n",
    "* Linearity.\n",
    "* Normality.\n",
    "* Homoscedasicity.\n",
    "* Model error to be independently Distributed."
   ]
  },
  {
   "cell_type": "code",
   "execution_count": null,
   "id": "408e0d6e",
   "metadata": {},
   "outputs": [],
   "source": [
    "file.head()"
   ]
  },
  {
   "cell_type": "markdown",
   "id": "e76b03fd",
   "metadata": {},
   "source": [
    "## Linearity"
   ]
  },
  {
   "cell_type": "code",
   "execution_count": 55,
   "id": "77226235",
   "metadata": {},
   "outputs": [
    {
     "data": {
      "text/html": [
       "<div>\n",
       "<style scoped>\n",
       "    .dataframe tbody tr th:only-of-type {\n",
       "        vertical-align: middle;\n",
       "    }\n",
       "\n",
       "    .dataframe tbody tr th {\n",
       "        vertical-align: top;\n",
       "    }\n",
       "\n",
       "    .dataframe thead th {\n",
       "        text-align: right;\n",
       "    }\n",
       "</style>\n",
       "<table border=\"1\" class=\"dataframe\">\n",
       "  <thead>\n",
       "    <tr style=\"text-align: right;\">\n",
       "      <th></th>\n",
       "      <th>Length1</th>\n",
       "      <th>Length2</th>\n",
       "      <th>Length3</th>\n",
       "      <th>Height</th>\n",
       "      <th>Width</th>\n",
       "      <th>Weight</th>\n",
       "      <th>Fitted_value</th>\n",
       "      <th>Residual</th>\n",
       "    </tr>\n",
       "  </thead>\n",
       "  <tbody>\n",
       "    <tr>\n",
       "      <th>3</th>\n",
       "      <td>26.3</td>\n",
       "      <td>29.0</td>\n",
       "      <td>33.5</td>\n",
       "      <td>12.7300</td>\n",
       "      <td>4.4555</td>\n",
       "      <td>363.0</td>\n",
       "      <td>467.692602</td>\n",
       "      <td>-104.692602</td>\n",
       "    </tr>\n",
       "    <tr>\n",
       "      <th>113</th>\n",
       "      <td>34.0</td>\n",
       "      <td>36.0</td>\n",
       "      <td>38.3</td>\n",
       "      <td>10.6091</td>\n",
       "      <td>6.7408</td>\n",
       "      <td>700.0</td>\n",
       "      <td>627.714864</td>\n",
       "      <td>72.285136</td>\n",
       "    </tr>\n",
       "    <tr>\n",
       "      <th>85</th>\n",
       "      <td>19.3</td>\n",
       "      <td>21.3</td>\n",
       "      <td>22.8</td>\n",
       "      <td>6.3840</td>\n",
       "      <td>3.5340</td>\n",
       "      <td>130.0</td>\n",
       "      <td>164.395642</td>\n",
       "      <td>-34.395642</td>\n",
       "    </tr>\n",
       "    <tr>\n",
       "      <th>155</th>\n",
       "      <td>11.7</td>\n",
       "      <td>12.4</td>\n",
       "      <td>13.5</td>\n",
       "      <td>2.4300</td>\n",
       "      <td>1.2690</td>\n",
       "      <td>13.4</td>\n",
       "      <td>-108.897258</td>\n",
       "      <td>122.297258</td>\n",
       "    </tr>\n",
       "    <tr>\n",
       "      <th>76</th>\n",
       "      <td>15.7</td>\n",
       "      <td>17.4</td>\n",
       "      <td>18.5</td>\n",
       "      <td>4.5880</td>\n",
       "      <td>2.9415</td>\n",
       "      <td>70.0</td>\n",
       "      <td>36.408824</td>\n",
       "      <td>33.591176</td>\n",
       "    </tr>\n",
       "  </tbody>\n",
       "</table>\n",
       "</div>"
      ],
      "text/plain": [
       "     Length1  Length2  Length3   Height   Width  Weight  Fitted_value  \\\n",
       "3       26.3     29.0     33.5  12.7300  4.4555   363.0    467.692602   \n",
       "113     34.0     36.0     38.3  10.6091  6.7408   700.0    627.714864   \n",
       "85      19.3     21.3     22.8   6.3840  3.5340   130.0    164.395642   \n",
       "155     11.7     12.4     13.5   2.4300  1.2690    13.4   -108.897258   \n",
       "76      15.7     17.4     18.5   4.5880  2.9415    70.0     36.408824   \n",
       "\n",
       "       Residual  \n",
       "3   -104.692602  \n",
       "113   72.285136  \n",
       "85   -34.395642  \n",
       "155  122.297258  \n",
       "76    33.591176  "
      ]
     },
     "execution_count": 55,
     "metadata": {},
     "output_type": "execute_result"
    }
   ],
   "source": [
    "file[\"Fitted_value\"] = model.fittedvalues\n",
    "file[\"Residual\"] = model.resid\n",
    "file.head()"
   ]
  },
  {
   "cell_type": "code",
   "execution_count": 56,
   "id": "d431e0c1",
   "metadata": {},
   "outputs": [
    {
     "data": {
      "text/plain": [
       "<AxesSubplot:xlabel='Length1', ylabel='Weight'>"
      ]
     },
     "execution_count": 56,
     "metadata": {},
     "output_type": "execute_result"
    },
    {
     "data": {
      "image/png": "[encoded data removed]",
      "text/plain": [
       "<Figure size 432x288 with 1 Axes>"
      ]
     },
     "metadata": {
      "needs_background": "light"
     },
     "output_type": "display_data"
    }
   ],
   "source": [
    "sns.scatterplot(x=\"Length1\",y=\"Weight\",data = file)"
   ]
  },
  {
   "cell_type": "code",
   "execution_count": 49,
   "id": "e5d0e834",
   "metadata": {},
   "outputs": [
    {
     "data": {
      "text/plain": [
       "<AxesSubplot:xlabel='Height', ylabel='Weight'>"
      ]
     },
     "execution_count": 49,
     "metadata": {},
     "output_type": "execute_result"
    },
    {
     "data": {
      "image/png": "[encoded data removed]",
      "text/plain": [
       "<Figure size 432x288 with 1 Axes>"
      ]
     },
     "metadata": {
      "needs_background": "light"
     },
     "output_type": "display_data"
    }
   ],
   "source": [
    "sns.scatterplot(x=\"Height\",y=\"Weight\",data = file)"
   ]
  },
  {
   "cell_type": "markdown",
   "id": "49b7a55f",
   "metadata": {},
   "source": [
    "### Homoscedasicity"
   ]
  },
  {
   "cell_type": "code",
   "execution_count": 57,
   "id": "5dd3819d",
   "metadata": {},
   "outputs": [
    {
     "data": {
      "text/plain": [
       "<AxesSubplot:xlabel='Fitted_value', ylabel='Residual'>"
      ]
     },
     "execution_count": 57,
     "metadata": {},
     "output_type": "execute_result"
    },
    {
     "data": {
      "image/png": "[encoded data removed]",
      "text/plain": [
       "<Figure size 432x288 with 1 Axes>"
      ]
     },
     "metadata": {
      "needs_background": "light"
     },
     "output_type": "display_data"
    }
   ],
   "source": [
    "sns.scatterplot(x=\"Fitted_value\",y=\"Residual\",data = file)"
   ]
  },
  {
   "cell_type": "markdown",
   "id": "fbd7e6f7",
   "metadata": {},
   "source": [
    "### Normality"
   ]
  },
  {
   "cell_type": "code",
   "execution_count": 58,
   "id": "5800d1f4",
   "metadata": {},
   "outputs": [
    {
     "name": "stderr",
     "output_type": "stream",
     "text": [
      "C:\\Users\\Owner\\anaconda3\\lib\\site-packages\\statsmodels\\graphics\\gofplots.py:993: UserWarning: marker is redundantly defined by the 'marker' keyword argument and the fmt string \"bo\" (-> marker='o'). The keyword argument will take precedence.\n",
      "  ax.plot(x, y, fmt, **plot_style)\n",
      "C:\\Users\\Owner\\AppData\\Local\\Temp/ipykernel_1988/1464320648.py:3: UserWarning: Matplotlib is currently using module://matplotlib_inline.backend_inline, which is a non-GUI backend, so cannot show the figure.\n",
      "  plt.show()\n"
     ]
    },
    {
     "data": {
      "image/png": "[encoded data removed]",
      "text/plain": [
       "<Figure size 432x288 with 1 Axes>"
      ]
     },
     "metadata": {
      "needs_background": "light"
     },
     "output_type": "display_data"
    }
   ],
   "source": [
    "import statsmodels.api as sm\n",
    "plt = sm.qqplot(file.Residual,fit=True ,line ='s')\n",
    "plt.show()"
   ]
  },
  {
   "cell_type": "markdown",
   "id": "1be89144",
   "metadata": {},
   "source": [
    "### Models error are independently identified."
   ]
  },
  {
   "cell_type": "code",
   "execution_count": null,
   "id": "20a8a24a",
   "metadata": {},
   "outputs": [],
   "source": [
    "file[\"Residual\"].plot.hist()"
   ]
  },
  {
   "cell_type": "markdown",
   "id": "b8875df6",
   "metadata": {},
   "source": [
    "# Prediction on Test Data"
   ]
  },
  {
   "cell_type": "code",
   "execution_count": 60,
   "id": "becaa6e9",
   "metadata": {},
   "outputs": [
    {
     "data": {
      "text/html": [
       "<div>\n",
       "<style scoped>\n",
       "    .dataframe tbody tr th:only-of-type {\n",
       "        vertical-align: middle;\n",
       "    }\n",
       "\n",
       "    .dataframe tbody tr th {\n",
       "        vertical-align: top;\n",
       "    }\n",
       "\n",
       "    .dataframe thead th {\n",
       "        text-align: right;\n",
       "    }\n",
       "</style>\n",
       "<table border=\"1\" class=\"dataframe\">\n",
       "  <thead>\n",
       "    <tr style=\"text-align: right;\">\n",
       "      <th></th>\n",
       "      <th>Length1</th>\n",
       "      <th>Length2</th>\n",
       "      <th>Length3</th>\n",
       "      <th>Height</th>\n",
       "      <th>Width</th>\n",
       "      <th>Weight</th>\n",
       "    </tr>\n",
       "  </thead>\n",
       "  <tbody>\n",
       "    <tr>\n",
       "      <th>18</th>\n",
       "      <td>30.9</td>\n",
       "      <td>33.5</td>\n",
       "      <td>38.6</td>\n",
       "      <td>15.6330</td>\n",
       "      <td>5.1338</td>\n",
       "      <td>610.0</td>\n",
       "    </tr>\n",
       "    <tr>\n",
       "      <th>157</th>\n",
       "      <td>13.2</td>\n",
       "      <td>14.3</td>\n",
       "      <td>15.2</td>\n",
       "      <td>2.8728</td>\n",
       "      <td>2.0672</td>\n",
       "      <td>19.7</td>\n",
       "    </tr>\n",
       "    <tr>\n",
       "      <th>30</th>\n",
       "      <td>35.0</td>\n",
       "      <td>38.5</td>\n",
       "      <td>44.1</td>\n",
       "      <td>18.0369</td>\n",
       "      <td>6.3063</td>\n",
       "      <td>920.0</td>\n",
       "    </tr>\n",
       "    <tr>\n",
       "      <th>69</th>\n",
       "      <td>21.2</td>\n",
       "      <td>23.0</td>\n",
       "      <td>25.8</td>\n",
       "      <td>10.3458</td>\n",
       "      <td>3.6636</td>\n",
       "      <td>200.0</td>\n",
       "    </tr>\n",
       "    <tr>\n",
       "      <th>118</th>\n",
       "      <td>36.6</td>\n",
       "      <td>39.0</td>\n",
       "      <td>41.3</td>\n",
       "      <td>12.4313</td>\n",
       "      <td>7.3514</td>\n",
       "      <td>820.0</td>\n",
       "    </tr>\n",
       "  </tbody>\n",
       "</table>\n",
       "</div>"
      ],
      "text/plain": [
       "     Length1  Length2  Length3   Height   Width  Weight\n",
       "18      30.9     33.5     38.6  15.6330  5.1338   610.0\n",
       "157     13.2     14.3     15.2   2.8728  2.0672    19.7\n",
       "30      35.0     38.5     44.1  18.0369  6.3063   920.0\n",
       "69      21.2     23.0     25.8  10.3458  3.6636   200.0\n",
       "118     36.6     39.0     41.3  12.4313  7.3514   820.0"
      ]
     },
     "execution_count": 60,
     "metadata": {},
     "output_type": "execute_result"
    }
   ],
   "source": [
    "file2 = pd.concat([X_test,y_test],axis=1)\n",
    "file2.head()"
   ]
  },
  {
   "cell_type": "code",
   "execution_count": 61,
   "id": "e53a8fd6",
   "metadata": {},
   "outputs": [
    {
     "data": {
      "text/html": [
       "<div>\n",
       "<style scoped>\n",
       "    .dataframe tbody tr th:only-of-type {\n",
       "        vertical-align: middle;\n",
       "    }\n",
       "\n",
       "    .dataframe tbody tr th {\n",
       "        vertical-align: top;\n",
       "    }\n",
       "\n",
       "    .dataframe thead th {\n",
       "        text-align: right;\n",
       "    }\n",
       "</style>\n",
       "<table border=\"1\" class=\"dataframe\">\n",
       "  <thead>\n",
       "    <tr style=\"text-align: right;\">\n",
       "      <th></th>\n",
       "      <th>Length1</th>\n",
       "      <th>Length2</th>\n",
       "      <th>Length3</th>\n",
       "      <th>Height</th>\n",
       "      <th>Width</th>\n",
       "      <th>Weight</th>\n",
       "      <th>Predicted</th>\n",
       "    </tr>\n",
       "  </thead>\n",
       "  <tbody>\n",
       "    <tr>\n",
       "      <th>18</th>\n",
       "      <td>30.9</td>\n",
       "      <td>33.5</td>\n",
       "      <td>38.6</td>\n",
       "      <td>15.6330</td>\n",
       "      <td>5.1338</td>\n",
       "      <td>610.0</td>\n",
       "      <td>642.830583</td>\n",
       "    </tr>\n",
       "    <tr>\n",
       "      <th>157</th>\n",
       "      <td>13.2</td>\n",
       "      <td>14.3</td>\n",
       "      <td>15.2</td>\n",
       "      <td>2.8728</td>\n",
       "      <td>2.0672</td>\n",
       "      <td>19.7</td>\n",
       "      <td>-61.397240</td>\n",
       "    </tr>\n",
       "    <tr>\n",
       "      <th>30</th>\n",
       "      <td>35.0</td>\n",
       "      <td>38.5</td>\n",
       "      <td>44.1</td>\n",
       "      <td>18.0369</td>\n",
       "      <td>6.3063</td>\n",
       "      <td>920.0</td>\n",
       "      <td>795.430622</td>\n",
       "    </tr>\n",
       "    <tr>\n",
       "      <th>69</th>\n",
       "      <td>21.2</td>\n",
       "      <td>23.0</td>\n",
       "      <td>25.8</td>\n",
       "      <td>10.3458</td>\n",
       "      <td>3.6636</td>\n",
       "      <td>200.0</td>\n",
       "      <td>289.432369</td>\n",
       "    </tr>\n",
       "    <tr>\n",
       "      <th>118</th>\n",
       "      <td>36.6</td>\n",
       "      <td>39.0</td>\n",
       "      <td>41.3</td>\n",
       "      <td>12.4313</td>\n",
       "      <td>7.3514</td>\n",
       "      <td>820.0</td>\n",
       "      <td>730.165471</td>\n",
       "    </tr>\n",
       "  </tbody>\n",
       "</table>\n",
       "</div>"
      ],
      "text/plain": [
       "     Length1  Length2  Length3   Height   Width  Weight   Predicted\n",
       "18      30.9     33.5     38.6  15.6330  5.1338   610.0  642.830583\n",
       "157     13.2     14.3     15.2   2.8728  2.0672    19.7  -61.397240\n",
       "30      35.0     38.5     44.1  18.0369  6.3063   920.0  795.430622\n",
       "69      21.2     23.0     25.8  10.3458  3.6636   200.0  289.432369\n",
       "118     36.6     39.0     41.3  12.4313  7.3514   820.0  730.165471"
      ]
     },
     "execution_count": 61,
     "metadata": {},
     "output_type": "execute_result"
    }
   ],
   "source": [
    "file2[\"Predicted\"] = model.predict(file2)\n",
    "file2.head()\n"
   ]
  },
  {
   "cell_type": "markdown",
   "id": "dc3b805a",
   "metadata": {},
   "source": [
    "##### accuracy for Test"
   ]
  },
  {
   "cell_type": "code",
   "execution_count": 62,
   "id": "94fb54dc",
   "metadata": {},
   "outputs": [
    {
     "name": "stdout",
     "output_type": "stream",
     "text": [
      "R2 score for test is :  0.9006059801621475\n"
     ]
    }
   ],
   "source": [
    "from sklearn.metrics import r2_score\n",
    "\n",
    "r2= r2_score(file2.Weight,file2.Predicted)\n",
    "print(\"R2 score for test is : \",r2)"
   ]
  },
  {
   "cell_type": "code",
   "execution_count": 63,
   "id": "a1557b50",
   "metadata": {},
   "outputs": [
    {
     "name": "stdout",
     "output_type": "stream",
     "text": [
      "R2 score for train  model is :  0.8578506762162764\n"
     ]
    }
   ],
   "source": [
    "from sklearn.metrics import r2_score\n",
    "\n",
    "r2= r2_score(file.Weight,file.Fitted_value)\n",
    "print(\"R2 score for train  model is : \",r2)"
   ]
  },
  {
   "cell_type": "markdown",
   "id": "1d60ad83",
   "metadata": {},
   "source": [
    "#### performance on Test dataset is good fit as Train model."
   ]
  },
  {
   "cell_type": "markdown",
   "id": "b8186f2d",
   "metadata": {},
   "source": [
    "### Prediction on live Data."
   ]
  },
  {
   "cell_type": "code",
   "execution_count": 64,
   "id": "ec82fbcc",
   "metadata": {},
   "outputs": [
    {
     "data": {
      "text/html": [
       "<div>\n",
       "<style scoped>\n",
       "    .dataframe tbody tr th:only-of-type {\n",
       "        vertical-align: middle;\n",
       "    }\n",
       "\n",
       "    .dataframe tbody tr th {\n",
       "        vertical-align: top;\n",
       "    }\n",
       "\n",
       "    .dataframe thead th {\n",
       "        text-align: right;\n",
       "    }\n",
       "</style>\n",
       "<table border=\"1\" class=\"dataframe\">\n",
       "  <thead>\n",
       "    <tr style=\"text-align: right;\">\n",
       "      <th></th>\n",
       "      <th>Fish</th>\n",
       "      <th>Length1</th>\n",
       "      <th>Length2</th>\n",
       "      <th>Length3</th>\n",
       "      <th>Height</th>\n",
       "      <th>Width</th>\n",
       "    </tr>\n",
       "  </thead>\n",
       "  <tbody>\n",
       "    <tr>\n",
       "      <th>0</th>\n",
       "      <td>Rawas</td>\n",
       "      <td>10</td>\n",
       "      <td>20</td>\n",
       "      <td>12</td>\n",
       "      <td>3.73</td>\n",
       "      <td>2.4</td>\n",
       "    </tr>\n",
       "    <tr>\n",
       "      <th>1</th>\n",
       "      <td>Salmon</td>\n",
       "      <td>20</td>\n",
       "      <td>30</td>\n",
       "      <td>25</td>\n",
       "      <td>6.65</td>\n",
       "      <td>6.7</td>\n",
       "    </tr>\n",
       "    <tr>\n",
       "      <th>2</th>\n",
       "      <td>Basa</td>\n",
       "      <td>30</td>\n",
       "      <td>40</td>\n",
       "      <td>36</td>\n",
       "      <td>14.34</td>\n",
       "      <td>5.4</td>\n",
       "    </tr>\n",
       "  </tbody>\n",
       "</table>\n",
       "</div>"
      ],
      "text/plain": [
       "     Fish  Length1  Length2  Length3  Height  Width\n",
       "0   Rawas       10       20       12    3.73    2.4\n",
       "1  Salmon       20       30       25    6.65    6.7\n",
       "2    Basa       30       40       36   14.34    5.4"
      ]
     },
     "execution_count": 64,
     "metadata": {},
     "output_type": "execute_result"
    }
   ],
   "source": [
    "df = {\"Fish\":pd.Series([\"Rawas\",\"Salmon\",\"Basa\"]),\n",
    "        \"Length1\":[10,20,30],\n",
    "          \"Length2\":[20,30,40],\n",
    "             \"Length3\":[12,25,36],\n",
    "               \"Height\":[3.73,6.65,14.34],\n",
    "                 \"Width\":[2.4,6.7,5.4]}\n",
    "fd =pd.DataFrame(df)\n",
    "fd"
   ]
  },
  {
   "cell_type": "code",
   "execution_count": null,
   "id": "ac6d8ecf",
   "metadata": {},
   "outputs": [],
   "source": [
    "fd[\"Predict_Weight \"] =np.round(model.predict(fd),2)\n",
    "fd"
   ]
  },
  {
   "cell_type": "code",
   "execution_count": null,
   "id": "bc898e7a",
   "metadata": {},
   "outputs": [],
   "source": [
    " fd.drop(['Predict'],axis=1)"
   ]
  },
  {
   "cell_type": "markdown",
   "id": "8ac99c91",
   "metadata": {},
   "source": [
    "###### SO,we can easily predict the weight of fish.."
   ]
  },
  {
   "cell_type": "code",
   "execution_count": null,
   "id": "ff960297",
   "metadata": {},
   "outputs": [],
   "source": []
  },
  {
   "cell_type": "code",
   "execution_count": null,
   "id": "39a268f8",
   "metadata": {},
   "outputs": [],
   "source": []
  }
 ],
 "metadata": {
  "kernelspec": {
   "display_name": "Python 3 (ipykernel)",
   "language": "python",
   "name": "python3"
  },
  "language_info": {
   "codemirror_mode": {
    "name": "ipython",
    "version": 3
   },
   "file_extension": ".py",
   "mimetype": "text/x-python",
   "name": "python",
   "nbconvert_exporter": "python",
   "pygments_lexer": "ipython3",
   "version": "3.9.7"
  }
 },
 "nbformat": 4,
 "nbformat_minor": 5
}
