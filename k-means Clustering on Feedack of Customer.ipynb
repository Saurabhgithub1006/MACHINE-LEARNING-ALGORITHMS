{
 "cells": [
  {
   "cell_type": "markdown",
   "metadata": {},
   "source": [
    "### Step 1:\n",
    "Load the dataset"
   ]
  },
  {
   "cell_type": "code",
   "execution_count": 5,
   "metadata": {},
   "outputs": [
    {
     "data": {
      "text/html": [
       "<div>\n",
       "<style scoped>\n",
       "    .dataframe tbody tr th:only-of-type {\n",
       "        vertical-align: middle;\n",
       "    }\n",
       "\n",
       "    .dataframe tbody tr th {\n",
       "        vertical-align: top;\n",
       "    }\n",
       "\n",
       "    .dataframe thead th {\n",
       "        text-align: right;\n",
       "    }\n",
       "</style>\n",
       "<table border=\"1\" class=\"dataframe\">\n",
       "  <thead>\n",
       "    <tr style=\"text-align: right;\">\n",
       "      <th></th>\n",
       "      <th>User_ID</th>\n",
       "      <th>Category_1</th>\n",
       "      <th>Category_2</th>\n",
       "      <th>Category_3</th>\n",
       "      <th>Category_4</th>\n",
       "      <th>Category_5</th>\n",
       "      <th>Category_6</th>\n",
       "      <th>Category_7</th>\n",
       "      <th>Category_8</th>\n",
       "      <th>Category_9</th>\n",
       "      <th>Category_10</th>\n",
       "    </tr>\n",
       "  </thead>\n",
       "  <tbody>\n",
       "    <tr>\n",
       "      <th>0</th>\n",
       "      <td>User 1</td>\n",
       "      <td>0.93</td>\n",
       "      <td>1.80</td>\n",
       "      <td>2.29</td>\n",
       "      <td>0.62</td>\n",
       "      <td>0.80</td>\n",
       "      <td>2.42</td>\n",
       "      <td>3.19</td>\n",
       "      <td>2.79</td>\n",
       "      <td>1.82</td>\n",
       "      <td>2.42</td>\n",
       "    </tr>\n",
       "    <tr>\n",
       "      <th>1</th>\n",
       "      <td>User 2</td>\n",
       "      <td>1.02</td>\n",
       "      <td>2.20</td>\n",
       "      <td>2.66</td>\n",
       "      <td>0.64</td>\n",
       "      <td>1.42</td>\n",
       "      <td>3.18</td>\n",
       "      <td>3.21</td>\n",
       "      <td>2.63</td>\n",
       "      <td>1.86</td>\n",
       "      <td>2.32</td>\n",
       "    </tr>\n",
       "    <tr>\n",
       "      <th>2</th>\n",
       "      <td>User 3</td>\n",
       "      <td>1.22</td>\n",
       "      <td>0.80</td>\n",
       "      <td>0.54</td>\n",
       "      <td>0.53</td>\n",
       "      <td>0.24</td>\n",
       "      <td>1.54</td>\n",
       "      <td>3.18</td>\n",
       "      <td>2.80</td>\n",
       "      <td>1.31</td>\n",
       "      <td>2.50</td>\n",
       "    </tr>\n",
       "    <tr>\n",
       "      <th>3</th>\n",
       "      <td>User 4</td>\n",
       "      <td>0.45</td>\n",
       "      <td>1.80</td>\n",
       "      <td>0.29</td>\n",
       "      <td>0.57</td>\n",
       "      <td>0.46</td>\n",
       "      <td>1.52</td>\n",
       "      <td>3.18</td>\n",
       "      <td>2.96</td>\n",
       "      <td>1.57</td>\n",
       "      <td>2.86</td>\n",
       "    </tr>\n",
       "    <tr>\n",
       "      <th>4</th>\n",
       "      <td>User 5</td>\n",
       "      <td>0.51</td>\n",
       "      <td>1.20</td>\n",
       "      <td>1.18</td>\n",
       "      <td>0.57</td>\n",
       "      <td>1.54</td>\n",
       "      <td>2.02</td>\n",
       "      <td>3.18</td>\n",
       "      <td>2.78</td>\n",
       "      <td>1.18</td>\n",
       "      <td>2.54</td>\n",
       "    </tr>\n",
       "    <tr>\n",
       "      <th>...</th>\n",
       "      <td>...</td>\n",
       "      <td>...</td>\n",
       "      <td>...</td>\n",
       "      <td>...</td>\n",
       "      <td>...</td>\n",
       "      <td>...</td>\n",
       "      <td>...</td>\n",
       "      <td>...</td>\n",
       "      <td>...</td>\n",
       "      <td>...</td>\n",
       "      <td>...</td>\n",
       "    </tr>\n",
       "    <tr>\n",
       "      <th>975</th>\n",
       "      <td>User 976</td>\n",
       "      <td>0.74</td>\n",
       "      <td>1.12</td>\n",
       "      <td>0.30</td>\n",
       "      <td>0.53</td>\n",
       "      <td>0.88</td>\n",
       "      <td>1.38</td>\n",
       "      <td>3.17</td>\n",
       "      <td>2.78</td>\n",
       "      <td>0.99</td>\n",
       "      <td>3.20</td>\n",
       "    </tr>\n",
       "    <tr>\n",
       "      <th>976</th>\n",
       "      <td>User 977</td>\n",
       "      <td>1.25</td>\n",
       "      <td>0.92</td>\n",
       "      <td>1.12</td>\n",
       "      <td>0.38</td>\n",
       "      <td>0.78</td>\n",
       "      <td>1.68</td>\n",
       "      <td>3.18</td>\n",
       "      <td>2.79</td>\n",
       "      <td>1.34</td>\n",
       "      <td>2.80</td>\n",
       "    </tr>\n",
       "    <tr>\n",
       "      <th>977</th>\n",
       "      <td>User 978</td>\n",
       "      <td>0.61</td>\n",
       "      <td>1.32</td>\n",
       "      <td>0.67</td>\n",
       "      <td>0.43</td>\n",
       "      <td>1.30</td>\n",
       "      <td>1.78</td>\n",
       "      <td>3.17</td>\n",
       "      <td>2.81</td>\n",
       "      <td>1.34</td>\n",
       "      <td>3.02</td>\n",
       "    </tr>\n",
       "    <tr>\n",
       "      <th>978</th>\n",
       "      <td>User 979</td>\n",
       "      <td>0.93</td>\n",
       "      <td>0.20</td>\n",
       "      <td>0.13</td>\n",
       "      <td>0.43</td>\n",
       "      <td>0.30</td>\n",
       "      <td>0.40</td>\n",
       "      <td>3.18</td>\n",
       "      <td>2.98</td>\n",
       "      <td>1.12</td>\n",
       "      <td>2.46</td>\n",
       "    </tr>\n",
       "    <tr>\n",
       "      <th>979</th>\n",
       "      <td>User 980</td>\n",
       "      <td>0.93</td>\n",
       "      <td>0.56</td>\n",
       "      <td>1.13</td>\n",
       "      <td>0.51</td>\n",
       "      <td>1.34</td>\n",
       "      <td>2.36</td>\n",
       "      <td>3.18</td>\n",
       "      <td>2.87</td>\n",
       "      <td>1.34</td>\n",
       "      <td>2.40</td>\n",
       "    </tr>\n",
       "  </tbody>\n",
       "</table>\n",
       "<p>980 rows × 11 columns</p>\n",
       "</div>"
      ],
      "text/plain": [
       "      User_ID  Category_1  Category_2  Category_3  Category_4  Category_5  \\\n",
       "0      User 1        0.93        1.80        2.29        0.62        0.80   \n",
       "1      User 2        1.02        2.20        2.66        0.64        1.42   \n",
       "2      User 3        1.22        0.80        0.54        0.53        0.24   \n",
       "3      User 4        0.45        1.80        0.29        0.57        0.46   \n",
       "4      User 5        0.51        1.20        1.18        0.57        1.54   \n",
       "..        ...         ...         ...         ...         ...         ...   \n",
       "975  User 976        0.74        1.12        0.30        0.53        0.88   \n",
       "976  User 977        1.25        0.92        1.12        0.38        0.78   \n",
       "977  User 978        0.61        1.32        0.67        0.43        1.30   \n",
       "978  User 979        0.93        0.20        0.13        0.43        0.30   \n",
       "979  User 980        0.93        0.56        1.13        0.51        1.34   \n",
       "\n",
       "     Category_6  Category_7  Category_8  Category_9  Category_10  \n",
       "0          2.42        3.19        2.79        1.82         2.42  \n",
       "1          3.18        3.21        2.63        1.86         2.32  \n",
       "2          1.54        3.18        2.80        1.31         2.50  \n",
       "3          1.52        3.18        2.96        1.57         2.86  \n",
       "4          2.02        3.18        2.78        1.18         2.54  \n",
       "..          ...         ...         ...         ...          ...  \n",
       "975        1.38        3.17        2.78        0.99         3.20  \n",
       "976        1.68        3.18        2.79        1.34         2.80  \n",
       "977        1.78        3.17        2.81        1.34         3.02  \n",
       "978        0.40        3.18        2.98        1.12         2.46  \n",
       "979        2.36        3.18        2.87        1.34         2.40  \n",
       "\n",
       "[980 rows x 11 columns]"
      ]
     },
     "execution_count": 5,
     "metadata": {},
     "output_type": "execute_result"
    }
   ],
   "source": [
    "import pandas as pd\n",
    "trip_advi_df = pd.read_csv(r\"C:\\Users\\Owner\\Desktop\\imar ml\\Cluster\\Kmeans\\tripadvisor_review.csv\")\n",
    "trip_advi_df"
   ]
  },
  {
   "cell_type": "code",
   "execution_count": 6,
   "metadata": {
    "scrolled": true
   },
   "outputs": [],
   "source": [
    "trip_Final=trip_advi_df.copy()"
   ]
  },
  {
   "cell_type": "code",
   "execution_count": 7,
   "metadata": {
    "scrolled": true
   },
   "outputs": [
    {
     "data": {
      "text/plain": [
       "Index(['User_ID', 'Category_1', 'Category_2', 'Category_3', 'Category_4',\n",
       "       'Category_5', 'Category_6', 'Category_7', 'Category_8', 'Category_9',\n",
       "       'Category_10'],\n",
       "      dtype='object')"
      ]
     },
     "execution_count": 7,
     "metadata": {},
     "output_type": "execute_result"
    }
   ],
   "source": [
    "trip_advi_df.columns"
   ]
  },
  {
   "cell_type": "markdown",
   "metadata": {},
   "source": [
    "####  Removing Unnecessary variable"
   ]
  },
  {
   "cell_type": "code",
   "execution_count": 8,
   "metadata": {},
   "outputs": [],
   "source": [
    "# forget about the users for the moment - we'll use this later\n",
    "del trip_advi_df['User_ID']"
   ]
  },
  {
   "cell_type": "code",
   "execution_count": 9,
   "metadata": {},
   "outputs": [
    {
     "name": "stdout",
     "output_type": "stream",
     "text": [
      "<class 'pandas.core.frame.DataFrame'>\n",
      "RangeIndex: 980 entries, 0 to 979\n",
      "Data columns (total 10 columns):\n",
      " #   Column       Non-Null Count  Dtype  \n",
      "---  ------       --------------  -----  \n",
      " 0   Category_1   980 non-null    float64\n",
      " 1   Category_2   980 non-null    float64\n",
      " 2   Category_3   980 non-null    float64\n",
      " 3   Category_4   980 non-null    float64\n",
      " 4   Category_5   980 non-null    float64\n",
      " 5   Category_6   980 non-null    float64\n",
      " 6   Category_7   980 non-null    float64\n",
      " 7   Category_8   980 non-null    float64\n",
      " 8   Category_9   980 non-null    float64\n",
      " 9   Category_10  980 non-null    float64\n",
      "dtypes: float64(10)\n",
      "memory usage: 76.7 KB\n"
     ]
    }
   ],
   "source": [
    "trip_advi_df.info()"
   ]
  },
  {
   "cell_type": "code",
   "execution_count": 10,
   "metadata": {
    "scrolled": true
   },
   "outputs": [
    {
     "data": {
      "text/html": [
       "<div>\n",
       "<style scoped>\n",
       "    .dataframe tbody tr th:only-of-type {\n",
       "        vertical-align: middle;\n",
       "    }\n",
       "\n",
       "    .dataframe tbody tr th {\n",
       "        vertical-align: top;\n",
       "    }\n",
       "\n",
       "    .dataframe thead th {\n",
       "        text-align: right;\n",
       "    }\n",
       "</style>\n",
       "<table border=\"1\" class=\"dataframe\">\n",
       "  <thead>\n",
       "    <tr style=\"text-align: right;\">\n",
       "      <th></th>\n",
       "      <th>Category_1</th>\n",
       "      <th>Category_2</th>\n",
       "      <th>Category_3</th>\n",
       "      <th>Category_4</th>\n",
       "      <th>Category_5</th>\n",
       "      <th>Category_6</th>\n",
       "      <th>Category_7</th>\n",
       "      <th>Category_8</th>\n",
       "      <th>Category_9</th>\n",
       "      <th>Category_10</th>\n",
       "    </tr>\n",
       "  </thead>\n",
       "  <tbody>\n",
       "    <tr>\n",
       "      <th>0</th>\n",
       "      <td>0.93</td>\n",
       "      <td>1.8</td>\n",
       "      <td>2.29</td>\n",
       "      <td>0.62</td>\n",
       "      <td>0.80</td>\n",
       "      <td>2.42</td>\n",
       "      <td>3.19</td>\n",
       "      <td>2.79</td>\n",
       "      <td>1.82</td>\n",
       "      <td>2.42</td>\n",
       "    </tr>\n",
       "    <tr>\n",
       "      <th>1</th>\n",
       "      <td>1.02</td>\n",
       "      <td>2.2</td>\n",
       "      <td>2.66</td>\n",
       "      <td>0.64</td>\n",
       "      <td>1.42</td>\n",
       "      <td>3.18</td>\n",
       "      <td>3.21</td>\n",
       "      <td>2.63</td>\n",
       "      <td>1.86</td>\n",
       "      <td>2.32</td>\n",
       "    </tr>\n",
       "    <tr>\n",
       "      <th>2</th>\n",
       "      <td>1.22</td>\n",
       "      <td>0.8</td>\n",
       "      <td>0.54</td>\n",
       "      <td>0.53</td>\n",
       "      <td>0.24</td>\n",
       "      <td>1.54</td>\n",
       "      <td>3.18</td>\n",
       "      <td>2.80</td>\n",
       "      <td>1.31</td>\n",
       "      <td>2.50</td>\n",
       "    </tr>\n",
       "    <tr>\n",
       "      <th>3</th>\n",
       "      <td>0.45</td>\n",
       "      <td>1.8</td>\n",
       "      <td>0.29</td>\n",
       "      <td>0.57</td>\n",
       "      <td>0.46</td>\n",
       "      <td>1.52</td>\n",
       "      <td>3.18</td>\n",
       "      <td>2.96</td>\n",
       "      <td>1.57</td>\n",
       "      <td>2.86</td>\n",
       "    </tr>\n",
       "    <tr>\n",
       "      <th>4</th>\n",
       "      <td>0.51</td>\n",
       "      <td>1.2</td>\n",
       "      <td>1.18</td>\n",
       "      <td>0.57</td>\n",
       "      <td>1.54</td>\n",
       "      <td>2.02</td>\n",
       "      <td>3.18</td>\n",
       "      <td>2.78</td>\n",
       "      <td>1.18</td>\n",
       "      <td>2.54</td>\n",
       "    </tr>\n",
       "  </tbody>\n",
       "</table>\n",
       "</div>"
      ],
      "text/plain": [
       "   Category_1  Category_2  Category_3  Category_4  Category_5  Category_6  \\\n",
       "0        0.93         1.8        2.29        0.62        0.80        2.42   \n",
       "1        1.02         2.2        2.66        0.64        1.42        3.18   \n",
       "2        1.22         0.8        0.54        0.53        0.24        1.54   \n",
       "3        0.45         1.8        0.29        0.57        0.46        1.52   \n",
       "4        0.51         1.2        1.18        0.57        1.54        2.02   \n",
       "\n",
       "   Category_7  Category_8  Category_9  Category_10  \n",
       "0        3.19        2.79        1.82         2.42  \n",
       "1        3.21        2.63        1.86         2.32  \n",
       "2        3.18        2.80        1.31         2.50  \n",
       "3        3.18        2.96        1.57         2.86  \n",
       "4        3.18        2.78        1.18         2.54  "
      ]
     },
     "execution_count": 10,
     "metadata": {},
     "output_type": "execute_result"
    }
   ],
   "source": [
    "trip_advi_df.head()"
   ]
  },
  {
   "cell_type": "markdown",
   "metadata": {},
   "source": [
    "### Step 2:\n",
    "Extract the measurements from the DataFrame using its .values attribute:"
   ]
  },
  {
   "cell_type": "code",
   "execution_count": 11,
   "metadata": {},
   "outputs": [
    {
     "data": {
      "text/plain": [
       "array([[0.93, 1.8 , 2.29, ..., 2.79, 1.82, 2.42],\n",
       "       [1.02, 2.2 , 2.66, ..., 2.63, 1.86, 2.32],\n",
       "       [1.22, 0.8 , 0.54, ..., 2.8 , 1.31, 2.5 ],\n",
       "       ...,\n",
       "       [0.61, 1.32, 0.67, ..., 2.81, 1.34, 3.02],\n",
       "       [0.93, 0.2 , 0.13, ..., 2.98, 1.12, 2.46],\n",
       "       [0.93, 0.56, 1.13, ..., 2.87, 1.34, 2.4 ]])"
      ]
     },
     "execution_count": 11,
     "metadata": {},
     "output_type": "execute_result"
    }
   ],
   "source": [
    "samples = trip_advi_df.values # get all row and columne with header \n",
    "\n",
    "samples"
   ]
  },
  {
   "cell_type": "markdown",
   "metadata": {},
   "source": [
    "### Step 3:\n",
    "1. Measure the quality of clusterings with different numbers of clusters using the inertia. \n",
    "\n",
    "2. For each of the given values of k, perform the following steps:\n",
    "3. Create a KMeans instance called model with k clusters.\n",
    "4. Fit the model to the grain data samples.\n",
    "5. Append the value of the inertia_ attribute of model to the list inertias."
   ]
  },
  {
   "cell_type": "code",
   "execution_count": 12,
   "metadata": {},
   "outputs": [
    {
     "data": {
      "text/plain": [
       "[]"
      ]
     },
     "execution_count": 12,
     "metadata": {},
     "output_type": "execute_result"
    }
   ],
   "source": [
    "SSE=[] # empty List\n",
    "SSE"
   ]
  },
  {
   "cell_type": "code",
   "execution_count": 13,
   "metadata": {},
   "outputs": [
    {
     "name": "stderr",
     "output_type": "stream",
     "text": [
      "C:\\Users\\Owner\\anaconda3\\lib\\site-packages\\sklearn\\cluster\\_kmeans.py:881: UserWarning: KMeans is known to have a memory leak on Windows with MKL, when there are less chunks than available threads. You can avoid it by setting the environment variable OMP_NUM_THREADS=4.\n",
      "  warnings.warn(\n"
     ]
    }
   ],
   "source": [
    "from sklearn.cluster import KMeans\n",
    "\n",
    "ks = range(1,6)   #ks=1,2,3,4,5\n",
    "SSE = [] # within-cluster sum-of-squares ( empty list)\n",
    "\n",
    "\n",
    "#k=ks=\n",
    "\n",
    "for k in ks:  # ks = k = 1,2,3,4,5\n",
    "    # Create a KMeans instance with k clusters:\n",
    "    \n",
    "    model = KMeans(n_clusters=k) # k =1,2,3,4,5\n",
    "\n",
    "    # Fit model to samples\n",
    "    model.fit(samples)\n",
    "\n",
    "    # Append the inertia to the list of inertias\n",
    "    SSE.append(model.inertia_)  # variance or SSE \n",
    "    # Inertia: Sum of distances of samplesto their closest cluster center"
   ]
  },
  {
   "cell_type": "code",
   "execution_count": 14,
   "metadata": {
    "scrolled": true
   },
   "outputs": [
    {
     "data": {
      "text/plain": [
       "[1736.1868143877546,\n",
       " 1179.7534432777677,\n",
       " 1052.4243086685135,\n",
       " 961.6754023428192,\n",
       " 890.9093355920875]"
      ]
     },
     "execution_count": 14,
     "metadata": {},
     "output_type": "execute_result"
    }
   ],
   "source": [
    "SSE"
   ]
  },
  {
   "cell_type": "markdown",
   "metadata": {},
   "source": [
    "#### Elbow Method "
   ]
  },
  {
   "cell_type": "code",
   "execution_count": 15,
   "metadata": {},
   "outputs": [
    {
     "data": {
      "image/png": "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\n",
      "text/plain": [
       "<Figure size 432x288 with 1 Axes>"
      ]
     },
     "metadata": {
      "needs_background": "light"
     },
     "output_type": "display_data"
    }
   ],
   "source": [
    "import matplotlib.pyplot as plt\n",
    "%matplotlib inline\n",
    "# Plot ks vs inertias\n",
    "plt.plot(ks, SSE, '-o') # -o is point in graph to identify the cluster\n",
    "plt.xlabel('number of clusters, k')\n",
    "plt.ylabel('SSE / Variance')\n",
    "plt.xticks(ks) # to get exact number of cluster without decimal\n",
    "plt.show()"
   ]
  },
  {
   "cell_type": "markdown",
   "metadata": {},
   "source": [
    "Plot the inertia to see which number of clusters is best. Remember: lower numbers are better!"
   ]
  },
  {
   "cell_type": "markdown",
   "metadata": {},
   "source": [
    "# Model or Algorithm"
   ]
  },
  {
   "cell_type": "code",
   "execution_count": 16,
   "metadata": {},
   "outputs": [],
   "source": [
    "model2 = KMeans(n_clusters=3,max_iter=100)"
   ]
  },
  {
   "cell_type": "code",
   "execution_count": 17,
   "metadata": {},
   "outputs": [
    {
     "data": {
      "text/html": [
       "<div>\n",
       "<style scoped>\n",
       "    .dataframe tbody tr th:only-of-type {\n",
       "        vertical-align: middle;\n",
       "    }\n",
       "\n",
       "    .dataframe tbody tr th {\n",
       "        vertical-align: top;\n",
       "    }\n",
       "\n",
       "    .dataframe thead th {\n",
       "        text-align: right;\n",
       "    }\n",
       "</style>\n",
       "<table border=\"1\" class=\"dataframe\">\n",
       "  <thead>\n",
       "    <tr style=\"text-align: right;\">\n",
       "      <th></th>\n",
       "      <th>User_ID</th>\n",
       "      <th>Category_1</th>\n",
       "      <th>Category_2</th>\n",
       "      <th>Category_3</th>\n",
       "      <th>Category_4</th>\n",
       "      <th>Category_5</th>\n",
       "      <th>Category_6</th>\n",
       "      <th>Category_7</th>\n",
       "      <th>Category_8</th>\n",
       "      <th>Category_9</th>\n",
       "      <th>Category_10</th>\n",
       "      <th>Cluster_Made</th>\n",
       "    </tr>\n",
       "  </thead>\n",
       "  <tbody>\n",
       "    <tr>\n",
       "      <th>0</th>\n",
       "      <td>User 1</td>\n",
       "      <td>0.93</td>\n",
       "      <td>1.8</td>\n",
       "      <td>2.29</td>\n",
       "      <td>0.62</td>\n",
       "      <td>0.80</td>\n",
       "      <td>2.42</td>\n",
       "      <td>3.19</td>\n",
       "      <td>2.79</td>\n",
       "      <td>1.82</td>\n",
       "      <td>2.42</td>\n",
       "      <td>1</td>\n",
       "    </tr>\n",
       "    <tr>\n",
       "      <th>1</th>\n",
       "      <td>User 2</td>\n",
       "      <td>1.02</td>\n",
       "      <td>2.2</td>\n",
       "      <td>2.66</td>\n",
       "      <td>0.64</td>\n",
       "      <td>1.42</td>\n",
       "      <td>3.18</td>\n",
       "      <td>3.21</td>\n",
       "      <td>2.63</td>\n",
       "      <td>1.86</td>\n",
       "      <td>2.32</td>\n",
       "      <td>1</td>\n",
       "    </tr>\n",
       "    <tr>\n",
       "      <th>2</th>\n",
       "      <td>User 3</td>\n",
       "      <td>1.22</td>\n",
       "      <td>0.8</td>\n",
       "      <td>0.54</td>\n",
       "      <td>0.53</td>\n",
       "      <td>0.24</td>\n",
       "      <td>1.54</td>\n",
       "      <td>3.18</td>\n",
       "      <td>2.80</td>\n",
       "      <td>1.31</td>\n",
       "      <td>2.50</td>\n",
       "      <td>0</td>\n",
       "    </tr>\n",
       "    <tr>\n",
       "      <th>3</th>\n",
       "      <td>User 4</td>\n",
       "      <td>0.45</td>\n",
       "      <td>1.8</td>\n",
       "      <td>0.29</td>\n",
       "      <td>0.57</td>\n",
       "      <td>0.46</td>\n",
       "      <td>1.52</td>\n",
       "      <td>3.18</td>\n",
       "      <td>2.96</td>\n",
       "      <td>1.57</td>\n",
       "      <td>2.86</td>\n",
       "      <td>0</td>\n",
       "    </tr>\n",
       "    <tr>\n",
       "      <th>4</th>\n",
       "      <td>User 5</td>\n",
       "      <td>0.51</td>\n",
       "      <td>1.2</td>\n",
       "      <td>1.18</td>\n",
       "      <td>0.57</td>\n",
       "      <td>1.54</td>\n",
       "      <td>2.02</td>\n",
       "      <td>3.18</td>\n",
       "      <td>2.78</td>\n",
       "      <td>1.18</td>\n",
       "      <td>2.54</td>\n",
       "      <td>2</td>\n",
       "    </tr>\n",
       "  </tbody>\n",
       "</table>\n",
       "</div>"
      ],
      "text/plain": [
       "  User_ID  Category_1  Category_2  Category_3  Category_4  Category_5  \\\n",
       "0  User 1        0.93         1.8        2.29        0.62        0.80   \n",
       "1  User 2        1.02         2.2        2.66        0.64        1.42   \n",
       "2  User 3        1.22         0.8        0.54        0.53        0.24   \n",
       "3  User 4        0.45         1.8        0.29        0.57        0.46   \n",
       "4  User 5        0.51         1.2        1.18        0.57        1.54   \n",
       "\n",
       "   Category_6  Category_7  Category_8  Category_9  Category_10  Cluster_Made  \n",
       "0        2.42        3.19        2.79        1.82         2.42             1  \n",
       "1        3.18        3.21        2.63        1.86         2.32             1  \n",
       "2        1.54        3.18        2.80        1.31         2.50             0  \n",
       "3        1.52        3.18        2.96        1.57         2.86             0  \n",
       "4        2.02        3.18        2.78        1.18         2.54             2  "
      ]
     },
     "execution_count": 17,
     "metadata": {},
     "output_type": "execute_result"
    }
   ],
   "source": [
    "trip_Final['Cluster_Made'] = model2.fit_predict(samples)\n",
    "trip_Final.head()"
   ]
  },
  {
   "cell_type": "markdown",
   "metadata": {},
   "source": [
    "### Final Cluster Centorids "
   ]
  },
  {
   "cell_type": "code",
   "execution_count": 18,
   "metadata": {
    "scrolled": true
   },
   "outputs": [
    {
     "data": {
      "text/plain": [
       "array([[0.89440098, 1.25506112, 0.50234719, 0.45449878, 0.64767726,\n",
       "        1.40102689, 3.17633252, 2.84364303, 1.57229829, 2.97850856],\n",
       "       [0.87695341, 1.38896057, 2.06910394, 0.56218638, 1.12293907,\n",
       "        2.0753405 , 3.18903226, 2.79630824, 1.52584229, 2.59010753],\n",
       "       [0.90702055, 1.45452055, 0.72020548, 0.61339041, 1.17376712,\n",
       "        2.23972603, 3.17965753, 2.86006849, 1.60708904, 2.74791096]])"
      ]
     },
     "execution_count": 18,
     "metadata": {},
     "output_type": "execute_result"
    }
   ],
   "source": [
    "\n",
    "\n",
    "model2.cluster_centers_"
   ]
  },
  {
   "cell_type": "code",
   "execution_count": 19,
   "metadata": {
    "scrolled": true
   },
   "outputs": [
    {
     "data": {
      "text/html": [
       "<div>\n",
       "<style scoped>\n",
       "    .dataframe tbody tr th:only-of-type {\n",
       "        vertical-align: middle;\n",
       "    }\n",
       "\n",
       "    .dataframe tbody tr th {\n",
       "        vertical-align: top;\n",
       "    }\n",
       "\n",
       "    .dataframe thead th {\n",
       "        text-align: right;\n",
       "    }\n",
       "</style>\n",
       "<table border=\"1\" class=\"dataframe\">\n",
       "  <thead>\n",
       "    <tr style=\"text-align: right;\">\n",
       "      <th></th>\n",
       "      <th>User_ID</th>\n",
       "      <th>Category_1</th>\n",
       "      <th>Category_2</th>\n",
       "      <th>Category_3</th>\n",
       "      <th>Category_4</th>\n",
       "      <th>Category_5</th>\n",
       "      <th>Category_6</th>\n",
       "      <th>Category_7</th>\n",
       "      <th>Category_8</th>\n",
       "      <th>Category_9</th>\n",
       "      <th>Category_10</th>\n",
       "      <th>Cluster_Made</th>\n",
       "    </tr>\n",
       "  </thead>\n",
       "  <tbody>\n",
       "    <tr>\n",
       "      <th>0</th>\n",
       "      <td>User 1</td>\n",
       "      <td>0.93</td>\n",
       "      <td>1.8</td>\n",
       "      <td>2.29</td>\n",
       "      <td>0.62</td>\n",
       "      <td>0.80</td>\n",
       "      <td>2.42</td>\n",
       "      <td>3.19</td>\n",
       "      <td>2.79</td>\n",
       "      <td>1.82</td>\n",
       "      <td>2.42</td>\n",
       "      <td>1</td>\n",
       "    </tr>\n",
       "    <tr>\n",
       "      <th>1</th>\n",
       "      <td>User 2</td>\n",
       "      <td>1.02</td>\n",
       "      <td>2.2</td>\n",
       "      <td>2.66</td>\n",
       "      <td>0.64</td>\n",
       "      <td>1.42</td>\n",
       "      <td>3.18</td>\n",
       "      <td>3.21</td>\n",
       "      <td>2.63</td>\n",
       "      <td>1.86</td>\n",
       "      <td>2.32</td>\n",
       "      <td>1</td>\n",
       "    </tr>\n",
       "    <tr>\n",
       "      <th>2</th>\n",
       "      <td>User 3</td>\n",
       "      <td>1.22</td>\n",
       "      <td>0.8</td>\n",
       "      <td>0.54</td>\n",
       "      <td>0.53</td>\n",
       "      <td>0.24</td>\n",
       "      <td>1.54</td>\n",
       "      <td>3.18</td>\n",
       "      <td>2.80</td>\n",
       "      <td>1.31</td>\n",
       "      <td>2.50</td>\n",
       "      <td>0</td>\n",
       "    </tr>\n",
       "    <tr>\n",
       "      <th>3</th>\n",
       "      <td>User 4</td>\n",
       "      <td>0.45</td>\n",
       "      <td>1.8</td>\n",
       "      <td>0.29</td>\n",
       "      <td>0.57</td>\n",
       "      <td>0.46</td>\n",
       "      <td>1.52</td>\n",
       "      <td>3.18</td>\n",
       "      <td>2.96</td>\n",
       "      <td>1.57</td>\n",
       "      <td>2.86</td>\n",
       "      <td>0</td>\n",
       "    </tr>\n",
       "    <tr>\n",
       "      <th>4</th>\n",
       "      <td>User 5</td>\n",
       "      <td>0.51</td>\n",
       "      <td>1.2</td>\n",
       "      <td>1.18</td>\n",
       "      <td>0.57</td>\n",
       "      <td>1.54</td>\n",
       "      <td>2.02</td>\n",
       "      <td>3.18</td>\n",
       "      <td>2.78</td>\n",
       "      <td>1.18</td>\n",
       "      <td>2.54</td>\n",
       "      <td>2</td>\n",
       "    </tr>\n",
       "  </tbody>\n",
       "</table>\n",
       "</div>"
      ],
      "text/plain": [
       "  User_ID  Category_1  Category_2  Category_3  Category_4  Category_5  \\\n",
       "0  User 1        0.93         1.8        2.29        0.62        0.80   \n",
       "1  User 2        1.02         2.2        2.66        0.64        1.42   \n",
       "2  User 3        1.22         0.8        0.54        0.53        0.24   \n",
       "3  User 4        0.45         1.8        0.29        0.57        0.46   \n",
       "4  User 5        0.51         1.2        1.18        0.57        1.54   \n",
       "\n",
       "   Category_6  Category_7  Category_8  Category_9  Category_10  Cluster_Made  \n",
       "0        2.42        3.19        2.79        1.82         2.42             1  \n",
       "1        3.18        3.21        2.63        1.86         2.32             1  \n",
       "2        1.54        3.18        2.80        1.31         2.50             0  \n",
       "3        1.52        3.18        2.96        1.57         2.86             0  \n",
       "4        2.02        3.18        2.78        1.18         2.54             2  "
      ]
     },
     "execution_count": 19,
     "metadata": {},
     "output_type": "execute_result"
    }
   ],
   "source": [
    "trip_Final.head()"
   ]
  },
  {
   "cell_type": "code",
   "execution_count": 20,
   "metadata": {
    "scrolled": true
   },
   "outputs": [
    {
     "data": {
      "text/plain": [
       "0    409\n",
       "2    292\n",
       "1    279\n",
       "Name: Cluster_Made, dtype: int64"
      ]
     },
     "execution_count": 20,
     "metadata": {},
     "output_type": "execute_result"
    }
   ],
   "source": [
    "trip_Final.Cluster_Made.value_counts(ascending=False)"
   ]
  },
  {
   "cell_type": "markdown",
   "metadata": {},
   "source": [
    "# Business Submission"
   ]
  },
  {
   "cell_type": "code",
   "execution_count": 21,
   "metadata": {},
   "outputs": [
    {
     "data": {
      "text/html": [
       "<div>\n",
       "<style scoped>\n",
       "    .dataframe tbody tr th:only-of-type {\n",
       "        vertical-align: middle;\n",
       "    }\n",
       "\n",
       "    .dataframe tbody tr th {\n",
       "        vertical-align: top;\n",
       "    }\n",
       "\n",
       "    .dataframe thead th {\n",
       "        text-align: right;\n",
       "    }\n",
       "</style>\n",
       "<table border=\"1\" class=\"dataframe\">\n",
       "  <thead>\n",
       "    <tr style=\"text-align: right;\">\n",
       "      <th></th>\n",
       "      <th>User_ID</th>\n",
       "      <th>Cluster_Made</th>\n",
       "    </tr>\n",
       "  </thead>\n",
       "  <tbody>\n",
       "    <tr>\n",
       "      <th>0</th>\n",
       "      <td>User 1</td>\n",
       "      <td>1</td>\n",
       "    </tr>\n",
       "    <tr>\n",
       "      <th>1</th>\n",
       "      <td>User 2</td>\n",
       "      <td>1</td>\n",
       "    </tr>\n",
       "    <tr>\n",
       "      <th>2</th>\n",
       "      <td>User 3</td>\n",
       "      <td>0</td>\n",
       "    </tr>\n",
       "    <tr>\n",
       "      <th>3</th>\n",
       "      <td>User 4</td>\n",
       "      <td>0</td>\n",
       "    </tr>\n",
       "    <tr>\n",
       "      <th>4</th>\n",
       "      <td>User 5</td>\n",
       "      <td>2</td>\n",
       "    </tr>\n",
       "    <tr>\n",
       "      <th>...</th>\n",
       "      <td>...</td>\n",
       "      <td>...</td>\n",
       "    </tr>\n",
       "    <tr>\n",
       "      <th>975</th>\n",
       "      <td>User 976</td>\n",
       "      <td>0</td>\n",
       "    </tr>\n",
       "    <tr>\n",
       "      <th>976</th>\n",
       "      <td>User 977</td>\n",
       "      <td>0</td>\n",
       "    </tr>\n",
       "    <tr>\n",
       "      <th>977</th>\n",
       "      <td>User 978</td>\n",
       "      <td>2</td>\n",
       "    </tr>\n",
       "    <tr>\n",
       "      <th>978</th>\n",
       "      <td>User 979</td>\n",
       "      <td>0</td>\n",
       "    </tr>\n",
       "    <tr>\n",
       "      <th>979</th>\n",
       "      <td>User 980</td>\n",
       "      <td>2</td>\n",
       "    </tr>\n",
       "  </tbody>\n",
       "</table>\n",
       "<p>980 rows × 2 columns</p>\n",
       "</div>"
      ],
      "text/plain": [
       "      User_ID  Cluster_Made\n",
       "0      User 1             1\n",
       "1      User 2             1\n",
       "2      User 3             0\n",
       "3      User 4             0\n",
       "4      User 5             2\n",
       "..        ...           ...\n",
       "975  User 976             0\n",
       "976  User 977             0\n",
       "977  User 978             2\n",
       "978  User 979             0\n",
       "979  User 980             2\n",
       "\n",
       "[980 rows x 2 columns]"
      ]
     },
     "execution_count": 21,
     "metadata": {},
     "output_type": "execute_result"
    }
   ],
   "source": [
    "Submission=trip_Final.loc[:,['User_ID','Cluster_Made']]\n",
    "Submission"
   ]
  },
  {
   "cell_type": "code",
   "execution_count": 22,
   "metadata": {},
   "outputs": [
    {
     "ename": "FileNotFoundError",
     "evalue": "[WinError 3] The system cannot find the path specified: 'C:\\\\Users\\\\User\\\\Desktop\\\\Python Code\\\\Clustering by Irfan\\\\Feedback of Hotels _ Restaurant'",
     "output_type": "error",
     "traceback": [
      "\u001b[1;31m---------------------------------------------------------------------------\u001b[0m",
      "\u001b[1;31mFileNotFoundError\u001b[0m                         Traceback (most recent call last)",
      "\u001b[1;32m~\\AppData\\Local\\Temp/ipykernel_576/2719775228.py\u001b[0m in \u001b[0;36m<module>\u001b[1;34m\u001b[0m\n\u001b[0;32m      1\u001b[0m \u001b[1;32mimport\u001b[0m \u001b[0mos\u001b[0m\u001b[1;33m\u001b[0m\u001b[1;33m\u001b[0m\u001b[0m\n\u001b[1;32m----> 2\u001b[1;33m \u001b[0mos\u001b[0m\u001b[1;33m.\u001b[0m\u001b[0mchdir\u001b[0m\u001b[1;33m(\u001b[0m\u001b[1;34mr\"C:\\Users\\User\\Desktop\\Python Code\\Clustering by Irfan\\Feedback of Hotels _ Restaurant\"\u001b[0m\u001b[1;33m)\u001b[0m\u001b[1;33m\u001b[0m\u001b[1;33m\u001b[0m\u001b[0m\n\u001b[0m",
      "\u001b[1;31mFileNotFoundError\u001b[0m: [WinError 3] The system cannot find the path specified: 'C:\\\\Users\\\\User\\\\Desktop\\\\Python Code\\\\Clustering by Irfan\\\\Feedback of Hotels _ Restaurant'"
     ]
    }
   ],
  
  },
  {
   "cell_type": "code",
   "execution_count": null,
   "metadata": {},
   "outputs": [],
   "source": [
    "Submission.to_excel(\"Trip_output.xlsx\",index=False,sheet_name=\"Output\") "
   ]
  },
  {
   "cell_type": "markdown",
   "metadata": {},
   "source": [
    "# Finished"
   ]
  }
 ],
 "metadata": {
  "kernelspec": {
   "display_name": "Python 3 (ipykernel)",
   "language": "python",
   "name": "python3"
  },
  "language_info": {
   "codemirror_mode": {
    "name": "ipython",
    "version": 3
   },
   "file_extension": ".py",
   "mimetype": "text/x-python",
   "name": "python",
   "nbconvert_exporter": "python",
   "pygments_lexer": "ipython3",
   "version": "3.9.7"
  }
 },
 "nbformat": 4,
 "nbformat_minor": 2
}
